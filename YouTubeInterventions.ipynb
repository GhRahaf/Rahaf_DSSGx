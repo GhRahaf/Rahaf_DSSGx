{
 "cells": [
  {
   "cell_type": "markdown",
   "metadata": {
    "id": "-_iHEckoCY95"
   },
   "source": [
    "# Requirements"
   ]
  },
  {
   "cell_type": "code",
   "execution_count": null,
   "metadata": {
    "colab": {
     "base_uri": "https://localhost:8080/"
    },
    "id": "wjDYnxS15-lT",
    "outputId": "cb4dbec3-8e0f-432d-a6c8-96196f576118"
   },
   "outputs": [
    {
     "name": "stdout",
     "output_type": "stream",
     "text": [
      "Python 3.6.9\n"
     ]
    }
   ],
   "source": [
    "!python --version"
   ]
  },
  {
   "cell_type": "code",
   "execution_count": null,
   "metadata": {
    "colab": {
     "base_uri": "https://localhost:8080/"
    },
    "id": "XnfKORPU6P4Q",
    "outputId": "8f3b8ea6-6329-43d9-f043-052f073ebc35"
   },
   "outputs": [
    {
     "name": "stdout",
     "output_type": "stream",
     "text": [
      "Collecting html2text\n",
      "  Downloading https://files.pythonhosted.org/packages/ae/88/14655f727f66b3e3199f4467bafcc88283e6c31b562686bf606264e09181/html2text-2020.1.16-py3-none-any.whl\n",
      "Installing collected packages: html2text\n",
      "Successfully installed html2text-2020.1.16\n",
      "Collecting scikit-learn-extra\n",
      "\u001b[?25l  Downloading https://files.pythonhosted.org/packages/d1/dd/891d2ee7bd18af8f2e1df5d63a52ee96edd0eacc21bb9627072b1c5f6a6c/scikit-learn-extra-0.1.0b2.tar.gz (615kB)\n",
      "\u001b[K     |████████████████████████████████| 624kB 6.6MB/s \n",
      "\u001b[?25h  Installing build dependencies ... \u001b[?25l\u001b[?25hdone\n",
      "  Getting requirements to build wheel ... \u001b[?25l\u001b[?25hdone\n",
      "    Preparing wheel metadata ... \u001b[?25l\u001b[?25hdone\n",
      "Requirement already satisfied: numpy>=1.13.3 in /usr/local/lib/python3.6/dist-packages (from scikit-learn-extra) (1.19.5)\n",
      "Requirement already satisfied: scipy>=0.19.1 in /usr/local/lib/python3.6/dist-packages (from scikit-learn-extra) (1.4.1)\n",
      "Requirement already satisfied: scikit-learn>=0.21.0 in /usr/local/lib/python3.6/dist-packages (from scikit-learn-extra) (0.22.2.post1)\n",
      "Requirement already satisfied: joblib>=0.11 in /usr/local/lib/python3.6/dist-packages (from scikit-learn>=0.21.0->scikit-learn-extra) (1.0.0)\n",
      "Building wheels for collected packages: scikit-learn-extra\n",
      "  Building wheel for scikit-learn-extra (PEP 517) ... \u001b[?25l\u001b[?25hdone\n",
      "  Created wheel for scikit-learn-extra: filename=scikit_learn_extra-0.1.0b2-cp36-cp36m-linux_x86_64.whl size=339567 sha256=82fb59197faecd8a89225aedc5047a830c392de17928f749255fbc51cce59f37\n",
      "  Stored in directory: /root/.cache/pip/wheels/04/01/0f/943bffb48bac048fa216b4325f1a6c939491ccb0ff500e08f4\n",
      "Successfully built scikit-learn-extra\n",
      "Installing collected packages: scikit-learn-extra\n",
      "Successfully installed scikit-learn-extra-0.1.0b2\n",
      "Collecting kneed\n",
      "  Downloading https://files.pythonhosted.org/packages/c3/6b/e130913aaaad1373060e259ab222ca2330672db696b297b082c3f3089fcc/kneed-0.7.0-py2.py3-none-any.whl\n",
      "Requirement already satisfied: matplotlib in /usr/local/lib/python3.6/dist-packages (from kneed) (3.2.2)\n",
      "Requirement already satisfied: scipy in /usr/local/lib/python3.6/dist-packages (from kneed) (1.4.1)\n",
      "Requirement already satisfied: numpy>=1.14.2 in /usr/local/lib/python3.6/dist-packages (from kneed) (1.19.5)\n",
      "Requirement already satisfied: pyparsing!=2.0.4,!=2.1.2,!=2.1.6,>=2.0.1 in /usr/local/lib/python3.6/dist-packages (from matplotlib->kneed) (2.4.7)\n",
      "Requirement already satisfied: cycler>=0.10 in /usr/local/lib/python3.6/dist-packages (from matplotlib->kneed) (0.10.0)\n",
      "Requirement already satisfied: kiwisolver>=1.0.1 in /usr/local/lib/python3.6/dist-packages (from matplotlib->kneed) (1.3.1)\n",
      "Requirement already satisfied: python-dateutil>=2.1 in /usr/local/lib/python3.6/dist-packages (from matplotlib->kneed) (2.8.1)\n",
      "Requirement already satisfied: six in /usr/local/lib/python3.6/dist-packages (from cycler>=0.10->matplotlib->kneed) (1.15.0)\n",
      "Installing collected packages: kneed\n",
      "Successfully installed kneed-0.7.0\n"
     ]
    }
   ],
   "source": [
    "install_packages = True\n",
    "if install_packages:\n",
    "  !pip install html2text\n",
    "  !pip install scikit-learn-extra\n",
    "  !pip install kneed"
   ]
  },
  {
   "cell_type": "code",
   "execution_count": null,
   "metadata": {
    "id": "ggN1mNA56C_o"
   },
   "outputs": [],
   "source": [
    "#imports\n",
    "import pandas as pd\n",
    "import numpy as np\n",
    "import math\n",
    "import os\n",
    "import time\n",
    "import tensorflow as tf\n",
    "import tensorflow_hub as hub\n",
    "import zipfile\n",
    "from html2text import HTML2Text\n",
    "from tqdm import tqdm\n",
    "import re\n",
    "from sklearn.metrics import pairwise_distances\n",
    "from sklearn.preprocessing import normalize\n",
    "import matplotlib.pyplot as plt\n",
    "import seaborn as sns\n",
    "import kneed\n",
    "import collections\n",
    "import umap\n",
    "from sklearn_extra.cluster import KMedoids\n",
    "#from sklearn.cluster import AgglomerativeClustering, DBSCAN, KMeans, OPTICS\n",
    "from sklearn.metrics import silhouette_samples, silhouette_score, pairwise_distances\n",
    "from difflib import get_close_matches"
   ]
  },
  {
   "cell_type": "code",
   "execution_count": null,
   "metadata": {
    "id": "bmmh8dd-6HGZ"
   },
   "outputs": [],
   "source": [
    "pd.set_option('display.max_rows', None)\n",
    "pd.set_option('display.max_columns', None)\n",
    "pd.set_option('display.width', None)\n",
    "pd.set_option('display.max_colwidth', None)"
   ]
  },
  {
   "cell_type": "markdown",
   "metadata": {
    "id": "DGvxlO07Cc6d"
   },
   "source": [
    "# Load Data"
   ]
  },
  {
   "cell_type": "code",
   "execution_count": null,
   "metadata": {
    "colab": {
     "base_uri": "https://localhost:8080/"
    },
    "id": "FsSvyHRm75MQ",
    "outputId": "72272f19-a605-419a-97d8-01c68bca5746"
   },
   "outputs": [
    {
     "name": "stdout",
     "output_type": "stream",
     "text": [
      "Drive already mounted at /content/drive; to attempt to forcibly remount, call drive.mount(\"/content/drive\", force_remount=True).\n"
     ]
    }
   ],
   "source": [
    "from google.colab import drive\n",
    "drive.mount('/content/drive')"
   ]
  },
  {
   "cell_type": "code",
   "execution_count": null,
   "metadata": {
    "id": "2qaV0NUu8D9E"
   },
   "outputs": [],
   "source": [
    "working_dir = '/content/drive/My Drive/Colab Notebooks/CSMA/project/'\n",
    "data_path = working_dir + 'data/videos/7I5RLbbXgPc/input/videoinfo_7I5RLbbXgPc_2021_02_06-10_18_06_comments.tab'\n",
    "output_path = working_dir + 'data/videos/7I5RLbbXgPc/output/'"
   ]
  },
  {
   "cell_type": "code",
   "execution_count": null,
   "metadata": {
    "id": "Q1WOn_AG6i96"
   },
   "outputs": [],
   "source": [
    "new_embeddings = False # set to True if embeddings need to be computed\n",
    "\n",
    "url_dict = {\n",
    "            'Transformer' : \"https://tfhub.dev/google/universal-sentence-encoder-large/5\",\n",
    "            'DAN' : \"https://tfhub.dev/google/universal-sentence-encoder/4\",\n",
    "            'Transformer_Multilingual': \"https://tfhub.dev/google/universal-sentence-encoder-multilingual-large/3\"\n",
    "}\n",
    "\n",
    "model_type = 'Transformer' #@param ['DAN','Transformer','Transformer_Multilingual']"
   ]
  },
  {
   "cell_type": "code",
   "execution_count": null,
   "metadata": {
    "id": "uFdAlNvH6kua"
   },
   "outputs": [],
   "source": [
    "if new_embeddings:\n",
    "    data = pd.read_csv(data_path,sep='\\t',header=(0))\n",
    "    data.head()"
   ]
  },
  {
   "cell_type": "code",
   "execution_count": null,
   "metadata": {
    "id": "Bp_qgcit8mVE"
   },
   "outputs": [],
   "source": [
    "#data.shape"
   ]
  },
  {
   "cell_type": "markdown",
   "metadata": {
    "id": "jYNINRv5Cmuv"
   },
   "source": [
    "# Preprocessing\n",
    "\n",
    "- Drop empty rows\n",
    "- Drop unused columns"
   ]
  },
  {
   "cell_type": "code",
   "execution_count": null,
   "metadata": {
    "id": "zHfQfFEl8mZz"
   },
   "outputs": [],
   "source": [
    "if new_embeddings:\n",
    "    data = data.dropna(subset=['text', 'authorName']) # drop rows with no content\n",
    "    data=data.drop(['id', 'replyCount','likeCount','authorChannelUrl','authorChannelId','isReplyTo','isReplyToName'],axis=1) # drop unused columns\n",
    "    data.head()"
   ]
  },
  {
   "cell_type": "code",
   "execution_count": null,
   "metadata": {
    "id": "C0NhuDaM8md_"
   },
   "outputs": [],
   "source": [
    "if new_embeddings:\n",
    "    # Remove HTML tags\n",
    "    tqdm.pandas()\n",
    "    h = HTML2Text()\n",
    "    h.ignore_links = True\n",
    "    data['cleaned'] = data['text'].progress_apply(lambda x: h.handle(x))\n",
    "    print( \"Removed HTML Tags.\")\n",
    "\n",
    "    # Remove links\n",
    "    http_link_pattern = r'http\\S+'\n",
    "    bitly_link_pattern = r'bit.ly/\\S+'\n",
    "    data['cleaned'] = data['cleaned'].str.replace(http_link_pattern, '')\n",
    "    data['cleaned'] = data['cleaned'].str.replace(bitly_link_pattern, '')\n",
    "    print( \"Removed Links.\")\n",
    "\n",
    "    # Remove user names\n",
    "    keep_names = [\"earth\", \"Tide\", \"Geologist\", \"A Person\", \"Titanic\", \"adventure\", \"Sun\", \"The United States Of America\"] # user names we want to keep\n",
    "    user_names = [name for name in data['authorName'].unique() if (len(name)> 3 and name not in keep_names)]\n",
    "    data['cleaned'] = data['cleaned'].str.replace('|'.join(map(re.escape, user_names)), '')\n",
    "    print( \"Removed user names.\")"
   ]
  },
  {
   "cell_type": "markdown",
   "metadata": {
    "id": "y2kUFNHKCtsx"
   },
   "source": [
    "# Save or load preprocessed Data"
   ]
  },
  {
   "cell_type": "code",
   "execution_count": null,
   "metadata": {
    "colab": {
     "base_uri": "https://localhost:8080/",
     "height": 714
    },
    "id": "EOoO_QUs8mh7",
    "outputId": "108c4d64-54b2-4761-d3ba-53746be3a396"
   },
   "outputs": [
    {
     "data": {
      "text/html": [
       "<div>\n",
       "<style scoped>\n",
       "    .dataframe tbody tr th:only-of-type {\n",
       "        vertical-align: middle;\n",
       "    }\n",
       "\n",
       "    .dataframe tbody tr th {\n",
       "        vertical-align: top;\n",
       "    }\n",
       "\n",
       "    .dataframe thead th {\n",
       "        text-align: right;\n",
       "    }\n",
       "</style>\n",
       "<table border=\"1\" class=\"dataframe\">\n",
       "  <thead>\n",
       "    <tr style=\"text-align: right;\">\n",
       "      <th></th>\n",
       "      <th>publishedAt</th>\n",
       "      <th>authorName</th>\n",
       "      <th>text</th>\n",
       "      <th>isReply</th>\n",
       "      <th>cleaned</th>\n",
       "    </tr>\n",
       "  </thead>\n",
       "  <tbody>\n",
       "    <tr>\n",
       "      <th>0</th>\n",
       "      <td>2021-01-18 20:32:32</td>\n",
       "      <td>Vighneshwar Anantharamakrishnan</td>\n",
       "      <td>Really climate change comes in four parts tell that to the climate scientists. &lt;br /&gt;1.)- does climate change? Yes it does no one is denying it&lt;br /&gt;2.)- Do humans probably affect the climate? really you think that a population of over 8 billion people doesn&amp;#39;t have an impact on the environment and the climate.&lt;br /&gt;3.)-Is it a crisis, might be possible? Yeah explain that to the people who are affected by Hurricanes, Tornados, Wildfires, and Earthquakes about it not being a crisis. &lt;br /&gt;4.)-Is anything we do going to make a significant difference? Yes, I agree that anything we do will not make the issue better if we keep burning fossil fuels and elevating the weather patterns, also without trying to take back the historical carbon emissions the United States and other countries like the E.U. we won&amp;#39;t solve anything just increasing the number of problems.&lt;br /&gt;Hurting poor people really? The people that are hurt by this and almost all citizens are corporations who do bad business practices and cause issues on the environment, we have people drinking PHAS infested chemicals, lead and other toxic waste so don&amp;#39;t start saying this is one person fault its all of our fault for not taking action and doing anything.</td>\n",
       "      <td>0</td>\n",
       "      <td>Really climate change comes in four parts tell that to the climate scientists.  \\n1.)- does climate change? Yes it does no one is denying it  \\n2.)- Do humans probably affect the climate? really you think that a population\\nof over 8 billion people doesn't have an impact on the environment and the\\nclimate.  \\n3.)-Is it a crisis, might be possible? Yeah explain that to the people who are\\naffected by Hurricanes, Tornados, Wildfires, and Earthquakes about it not\\nbeing a crisis.  \\n4.)-Is anything we do going to make a significant difference? Yes, I agree\\nthat anything we do will not make the issue better if we keep burning fossil\\nfuels and elevating the weather patterns, also without trying to take back the\\nhistorical carbon emissions the United States and other countries like the\\nE.U. we won't solve anything just increasing the number of problems.  \\nHurting poor people really? The people that are hurt by this and almost all\\ncitizens are corporations who do bad business practices and cause issues on\\nthe environment, we have people drinking PHAS infested chemicals, lead and\\nother toxic waste so don't start saying this is one person fault its all of\\nour fault for not taking action and doing anything.\\n\\n</td>\n",
       "    </tr>\n",
       "    <tr>\n",
       "      <th>1</th>\n",
       "      <td>2021-01-18 20:34:15</td>\n",
       "      <td>Vighneshwar Anantharamakrishnan</td>\n",
       "      <td>Yeah, many of the things in the Paris Agreement are not good either, which I will agree with but, we are not dealing with historical emissions. THis needs to be solved</td>\n",
       "      <td>1</td>\n",
       "      <td>Yeah, many of the things in the Paris Agreement are not good either, which I\\nwill agree with but, we are not dealing with historical emissions. THis needs\\nto be solved\\n\\n</td>\n",
       "    </tr>\n",
       "    <tr>\n",
       "      <th>2</th>\n",
       "      <td>2021-01-11 21:18:30</td>\n",
       "      <td>Ben Bethel</td>\n",
       "      <td>Imagine this... Stimulus for solar, wind and battery programs results in $0 monthly utility bills (and auto fuel bills) for residential and commercial customers. This increases profits, makes us more competitive against other nations, and increases disposable income to spend on businesses, increases savings and investments in markets, and decreases amount governments have to provide in welfare when people need public assistance, unemployment, stimulus, which helps decrease taxes. Please debate.</td>\n",
       "      <td>0</td>\n",
       "      <td>Imagine this... Stimulus for solar, wind and battery programs results in $0\\nmonthly utility bills (and auto fuel bills) for residential and commercial\\ncustomers. This increases profits, makes us more competitive against other\\nnations, and increases disposable income to spend on businesses, increases\\nsavings and investments in markets, and decreases amount governments have to\\nprovide in welfare when people need public assistance, unemployment, stimulus,\\nwhich helps decrease taxes. Please debate.\\n\\n</td>\n",
       "    </tr>\n",
       "    <tr>\n",
       "      <th>3</th>\n",
       "      <td>2020-10-18 04:48:07</td>\n",
       "      <td>Iceman</td>\n",
       "      <td>For liberals, this is their religion. Don’t even bother arguing with them. They’re just smarter and better than us small minded conservatives.</td>\n",
       "      <td>0</td>\n",
       "      <td>For liberals, this is their religion. Don’t even bother arguing with them.\\nThey’re just smarter and better than us small minded conservatives.\\n\\n</td>\n",
       "    </tr>\n",
       "    <tr>\n",
       "      <th>4</th>\n",
       "      <td>2020-10-15 13:17:28</td>\n",
       "      <td>Sam Lair</td>\n",
       "      <td>It is the rapid rate of rising global temperatures that will most thwart our best attempts to both adapt to climate change and to mitigate global warming. Minor climate changes on the local scale have caused past civilizations to collapse. We’re facing upcoming major changes on a global scale. In the end, there’ll be no where left to run to.</td>\n",
       "      <td>0</td>\n",
       "      <td>It is the rapid rate of rising global temperatures that will most thwart our\\nbest attempts to both adapt to climate change and to mitigate global warming.\\nMinor climate changes on the local scale have caused past civilizations to\\ncollapse. We’re facing upcoming major changes on a global scale. In the end,\\nthere’ll be no where left to run to.\\n\\n</td>\n",
       "    </tr>\n",
       "  </tbody>\n",
       "</table>\n",
       "</div>"
      ],
      "text/plain": [
       "           publishedAt                       authorName  \\\n",
       "0  2021-01-18 20:32:32  Vighneshwar Anantharamakrishnan   \n",
       "1  2021-01-18 20:34:15  Vighneshwar Anantharamakrishnan   \n",
       "2  2021-01-11 21:18:30                       Ben Bethel   \n",
       "3  2020-10-18 04:48:07                           Iceman   \n",
       "4  2020-10-15 13:17:28                         Sam Lair   \n",
       "\n",
       "                                                                                                                                                                                                                                                                                                                                                                                                                                                                                                                                                                                                                                                                                                                                                                                                                                                                                                                                                                                                                                                                                                                                                                                                                                                                                     text  \\\n",
       "0  Really climate change comes in four parts tell that to the climate scientists. <br />1.)- does climate change? Yes it does no one is denying it<br />2.)- Do humans probably affect the climate? really you think that a population of over 8 billion people doesn&#39;t have an impact on the environment and the climate.<br />3.)-Is it a crisis, might be possible? Yeah explain that to the people who are affected by Hurricanes, Tornados, Wildfires, and Earthquakes about it not being a crisis. <br />4.)-Is anything we do going to make a significant difference? Yes, I agree that anything we do will not make the issue better if we keep burning fossil fuels and elevating the weather patterns, also without trying to take back the historical carbon emissions the United States and other countries like the E.U. we won&#39;t solve anything just increasing the number of problems.<br />Hurting poor people really? The people that are hurt by this and almost all citizens are corporations who do bad business practices and cause issues on the environment, we have people drinking PHAS infested chemicals, lead and other toxic waste so don&#39;t start saying this is one person fault its all of our fault for not taking action and doing anything.   \n",
       "1                                                                                                                                                                                                                                                                                                                                                                                                                                                                                                                                                                                                                                                                                                                                                                                                                                                                                                                                                                                                                                                                                                                 Yeah, many of the things in the Paris Agreement are not good either, which I will agree with but, we are not dealing with historical emissions. THis needs to be solved   \n",
       "2                                                                                                                                                                                                                                                                                                                                                                                                                                                                                                                                                                                                                                                                                                                                                                     Imagine this... Stimulus for solar, wind and battery programs results in $0 monthly utility bills (and auto fuel bills) for residential and commercial customers. This increases profits, makes us more competitive against other nations, and increases disposable income to spend on businesses, increases savings and investments in markets, and decreases amount governments have to provide in welfare when people need public assistance, unemployment, stimulus, which helps decrease taxes. Please debate.   \n",
       "3                                                                                                                                                                                                                                                                                                                                                                                                                                                                                                                                                                                                                                                                                                                                                                                                                                                                                                                                                                                                                                                                                                                                          For liberals, this is their religion. Don’t even bother arguing with them. They’re just smarter and better than us small minded conservatives.   \n",
       "4                                                                                                                                                                                                                                                                                                                                                                                                                                                                                                                                                                                                                                                                                                                                                                                                                                                                                                                                 It is the rapid rate of rising global temperatures that will most thwart our best attempts to both adapt to climate change and to mitigate global warming. Minor climate changes on the local scale have caused past civilizations to collapse. We’re facing upcoming major changes on a global scale. In the end, there’ll be no where left to run to.   \n",
       "\n",
       "   isReply  \\\n",
       "0        0   \n",
       "1        1   \n",
       "2        0   \n",
       "3        0   \n",
       "4        0   \n",
       "\n",
       "                                                                                                                                                                                                                                                                                                                                                                                                                                                                                                                                                                                                                                                                                                                                                                                                                                                                                                                                                                                                                                                                                                                                                                                                                                                                          cleaned  \n",
       "0  Really climate change comes in four parts tell that to the climate scientists.  \\n1.)- does climate change? Yes it does no one is denying it  \\n2.)- Do humans probably affect the climate? really you think that a population\\nof over 8 billion people doesn't have an impact on the environment and the\\nclimate.  \\n3.)-Is it a crisis, might be possible? Yeah explain that to the people who are\\naffected by Hurricanes, Tornados, Wildfires, and Earthquakes about it not\\nbeing a crisis.  \\n4.)-Is anything we do going to make a significant difference? Yes, I agree\\nthat anything we do will not make the issue better if we keep burning fossil\\nfuels and elevating the weather patterns, also without trying to take back the\\nhistorical carbon emissions the United States and other countries like the\\nE.U. we won't solve anything just increasing the number of problems.  \\nHurting poor people really? The people that are hurt by this and almost all\\ncitizens are corporations who do bad business practices and cause issues on\\nthe environment, we have people drinking PHAS infested chemicals, lead and\\nother toxic waste so don't start saying this is one person fault its all of\\nour fault for not taking action and doing anything.\\n\\n  \n",
       "1                                                                                                                                                                                                                                                                                                                                                                                                                                                                                                                                                                                                                                                                                                                                                                                                                                                                                                                                                                                                                                                                                                   Yeah, many of the things in the Paris Agreement are not good either, which I\\nwill agree with but, we are not dealing with historical emissions. THis needs\\nto be solved\\n\\n  \n",
       "2                                                                                                                                                                                                                                                                                                                                                                                                                                                                                                                                                                                                                                                                                                                                                   Imagine this... Stimulus for solar, wind and battery programs results in $0\\nmonthly utility bills (and auto fuel bills) for residential and commercial\\ncustomers. This increases profits, makes us more competitive against other\\nnations, and increases disposable income to spend on businesses, increases\\nsavings and investments in markets, and decreases amount governments have to\\nprovide in welfare when people need public assistance, unemployment, stimulus,\\nwhich helps decrease taxes. Please debate.\\n\\n  \n",
       "3                                                                                                                                                                                                                                                                                                                                                                                                                                                                                                                                                                                                                                                                                                                                                                                                                                                                                                                                                                                                                                                                                                                             For liberals, this is their religion. Don’t even bother arguing with them.\\nThey’re just smarter and better than us small minded conservatives.\\n\\n  \n",
       "4                                                                                                                                                                                                                                                                                                                                                                                                                                                                                                                                                                                                                                                                                                                                                                                                                                                                                                                 It is the rapid rate of rising global temperatures that will most thwart our\\nbest attempts to both adapt to climate change and to mitigate global warming.\\nMinor climate changes on the local scale have caused past civilizations to\\ncollapse. We’re facing upcoming major changes on a global scale. In the end,\\nthere’ll be no where left to run to.\\n\\n  "
      ]
     },
     "execution_count": 14,
     "metadata": {
      "tags": []
     },
     "output_type": "execute_result"
    }
   ],
   "source": [
    "if new_embeddings:\n",
    "    data.to_pickle(output_path+'data_preprocessed'+'.pkl')\n",
    "else:\n",
    "    data = pd.read_pickle(output_path+'data_preprocessed'+'.pkl')\n",
    "data.head()"
   ]
  },
  {
   "cell_type": "markdown",
   "metadata": {
    "id": "ky6m4_ebC4Xs"
   },
   "source": [
    "# Produce Text Embeddings with Universal Sentence Encoder"
   ]
  },
  {
   "cell_type": "code",
   "execution_count": null,
   "metadata": {
    "id": "8wYhIUCp8mlG"
   },
   "outputs": [],
   "source": [
    "# Load model\n",
    "\n",
    "hub_url = url_dict[model_type]\n",
    "if new_embeddings:\n",
    "    print(\"Loading model. This will take some time...\")\n",
    "    embed = hub.load(hub_url)"
   ]
  },
  {
   "cell_type": "code",
   "execution_count": null,
   "metadata": {
    "colab": {
     "base_uri": "https://localhost:8080/"
    },
    "id": "ynr7x7jA8moS",
    "outputId": "27f68c04-40ba-457b-f4eb-ce7d85da0942"
   },
   "outputs": [
    {
     "data": {
      "text/plain": [
       "(699, 512)"
      ]
     },
     "execution_count": 16,
     "metadata": {
      "tags": []
     },
     "output_type": "execute_result"
    }
   ],
   "source": [
    "# Embed Documents\n",
    "\n",
    "if new_embeddings:\n",
    "    for k,g in data.groupby(np.arange(len(data))//200):\n",
    "        if k == 0:\n",
    "            embeddings = embed(g['cleaned'])\n",
    "        else:\n",
    "            embeddings_new = embed(g['cleaned'])\n",
    "            embeddings = tf.concat(values=[embeddings,embeddings_new],axis = 0)\n",
    "            print(k , end =\" \")\n",
    "    print(\"The embeddings vector is of fixed length {}\".format(embeddings.shape[1]))\n",
    "\n",
    "    np.save(output_path+'/embeddings'+model_type+'.npy', embeddings, allow_pickle=True, fix_imports=True)\n",
    "else:\n",
    "    embeddings = np.load(output_path+'/embeddings'+model_type+'.npy', mmap_mode=None, allow_pickle=False, fix_imports=True, encoding='ASCII')\n",
    "\n",
    "embeddings.shape"
   ]
  },
  {
   "cell_type": "markdown",
   "metadata": {
    "id": "kcJO_JJyhVFm"
   },
   "source": [
    "# Calculate Similarity Matrix"
   ]
  },
  {
   "cell_type": "code",
   "execution_count": null,
   "metadata": {
    "colab": {
     "base_uri": "https://localhost:8080/"
    },
    "id": "ceTIszgX8mrv",
    "outputId": "16d7713e-8fd1-4f88-8893-bad26df93194"
   },
   "outputs": [
    {
     "name": "stdout",
     "output_type": "stream",
     "text": [
      "[[ 1.0000002   0.3770362   0.19958037 ... -0.03412433  0.01915985\n",
      "   0.4332369 ]\n",
      " [ 0.3770362   1.0000002   0.12642857 ... -0.05600467  0.1899356\n",
      "   0.3792789 ]\n",
      " [ 0.19958037  0.12642857  0.99999976 ... -0.02860104  0.05487927\n",
      "   0.18496168]\n",
      " ...\n",
      " [-0.03412433 -0.05600467 -0.02860104 ...  1.0000002  -0.0167702\n",
      "   0.01263474]\n",
      " [ 0.01915985  0.1899356   0.05487927 ... -0.0167702   0.9999999\n",
      "   0.23996732]\n",
      " [ 0.4332369   0.3792789   0.18496168 ...  0.01263474  0.23996732\n",
      "   0.99999964]]\n"
     ]
    }
   ],
   "source": [
    "# Calculate Similarity Matric with angular distance (following Cer et al. (2018))\n",
    "\n",
    "from sklearn.metrics.pairwise import cosine_similarity\n",
    "def cos_sim(input_vectors):\n",
    "    similarity = cosine_similarity(input_vectors)\n",
    "    return similarity\n",
    "cosine_similarity_matrix = cos_sim(np.array(embeddings))\n",
    "print(cosine_similarity_matrix)"
   ]
  },
  {
   "cell_type": "code",
   "execution_count": null,
   "metadata": {
    "id": "Gt4UYz5fDYaH"
   },
   "outputs": [],
   "source": [
    "def plot_similarity(labels, features, rotation):\n",
    "  corr = np.inner(features, features)\n",
    "  sns.set(font_scale=0.8)\n",
    "  g = sns.heatmap(\n",
    "      corr,\n",
    "      xticklabels=labels,\n",
    "      yticklabels=labels,\n",
    "      vmin=0,\n",
    "      vmax=1,\n",
    "      cmap=\"YlOrRd\")\n",
    "  g.set_xticklabels(labels, rotation=rotation)\n",
    "  g.set_title(\"Semantic Textual Similarity\")\n",
    "\n",
    "num_samples = 5\n",
    "off_set = 375\n",
    "\n",
    "# plot_similarity(data.iloc[off_set:off_set+num_samples]['cleaned'], embeddings[off_set:off_set+num_samples], 90)"
   ]
  },
  {
   "cell_type": "markdown",
   "metadata": {
    "id": "2ZhIiTBS9bjl"
   },
   "source": [
    "# Clustering "
   ]
  },
  {
   "cell_type": "markdown",
   "metadata": {
    "id": "vc0LXzgxGdeT"
   },
   "source": [
    "## Load Data"
   ]
  },
  {
   "cell_type": "code",
   "execution_count": null,
   "metadata": {
    "id": "fB0K1cnn9bm4"
   },
   "outputs": [],
   "source": [
    "data = pd.read_pickle(output_path+'data_preprocessed'+'.pkl')\n",
    "labels_default = np.zeros(len(data.index))-1\n",
    "data['label_manual'] = labels_default"
   ]
  },
  {
   "cell_type": "code",
   "execution_count": null,
   "metadata": {
    "colab": {
     "base_uri": "https://localhost:8080/",
     "height": 765
    },
    "id": "82b-DOa89bqJ",
    "outputId": "fc39fca4-7cdf-446f-8ee7-70f534ed8a4e"
   },
   "outputs": [
    {
     "data": {
      "text/html": [
       "<div>\n",
       "<style scoped>\n",
       "    .dataframe tbody tr th:only-of-type {\n",
       "        vertical-align: middle;\n",
       "    }\n",
       "\n",
       "    .dataframe tbody tr th {\n",
       "        vertical-align: top;\n",
       "    }\n",
       "\n",
       "    .dataframe thead th {\n",
       "        text-align: right;\n",
       "    }\n",
       "</style>\n",
       "<table border=\"1\" class=\"dataframe\">\n",
       "  <thead>\n",
       "    <tr style=\"text-align: right;\">\n",
       "      <th></th>\n",
       "      <th>publishedAt</th>\n",
       "      <th>authorName</th>\n",
       "      <th>text</th>\n",
       "      <th>isReply</th>\n",
       "      <th>cleaned</th>\n",
       "      <th>label_manual</th>\n",
       "    </tr>\n",
       "  </thead>\n",
       "  <tbody>\n",
       "    <tr>\n",
       "      <th>0</th>\n",
       "      <td>2021-01-18 20:32:32</td>\n",
       "      <td>Vighneshwar Anantharamakrishnan</td>\n",
       "      <td>Really climate change comes in four parts tell that to the climate scientists. &lt;br /&gt;1.)- does climate change? Yes it does no one is denying it&lt;br /&gt;2.)- Do humans probably affect the climate? really you think that a population of over 8 billion people doesn&amp;#39;t have an impact on the environment and the climate.&lt;br /&gt;3.)-Is it a crisis, might be possible? Yeah explain that to the people who are affected by Hurricanes, Tornados, Wildfires, and Earthquakes about it not being a crisis. &lt;br /&gt;4.)-Is anything we do going to make a significant difference? Yes, I agree that anything we do will not make the issue better if we keep burning fossil fuels and elevating the weather patterns, also without trying to take back the historical carbon emissions the United States and other countries like the E.U. we won&amp;#39;t solve anything just increasing the number of problems.&lt;br /&gt;Hurting poor people really? The people that are hurt by this and almost all citizens are corporations who do bad business practices and cause issues on the environment, we have people drinking PHAS infested chemicals, lead and other toxic waste so don&amp;#39;t start saying this is one person fault its all of our fault for not taking action and doing anything.</td>\n",
       "      <td>0</td>\n",
       "      <td>Really climate change comes in four parts tell that to the climate scientists.  \\n1.)- does climate change? Yes it does no one is denying it  \\n2.)- Do humans probably affect the climate? really you think that a population\\nof over 8 billion people doesn't have an impact on the environment and the\\nclimate.  \\n3.)-Is it a crisis, might be possible? Yeah explain that to the people who are\\naffected by Hurricanes, Tornados, Wildfires, and Earthquakes about it not\\nbeing a crisis.  \\n4.)-Is anything we do going to make a significant difference? Yes, I agree\\nthat anything we do will not make the issue better if we keep burning fossil\\nfuels and elevating the weather patterns, also without trying to take back the\\nhistorical carbon emissions the United States and other countries like the\\nE.U. we won't solve anything just increasing the number of problems.  \\nHurting poor people really? The people that are hurt by this and almost all\\ncitizens are corporations who do bad business practices and cause issues on\\nthe environment, we have people drinking PHAS infested chemicals, lead and\\nother toxic waste so don't start saying this is one person fault its all of\\nour fault for not taking action and doing anything.\\n\\n</td>\n",
       "      <td>-1.0</td>\n",
       "    </tr>\n",
       "    <tr>\n",
       "      <th>1</th>\n",
       "      <td>2021-01-18 20:34:15</td>\n",
       "      <td>Vighneshwar Anantharamakrishnan</td>\n",
       "      <td>Yeah, many of the things in the Paris Agreement are not good either, which I will agree with but, we are not dealing with historical emissions. THis needs to be solved</td>\n",
       "      <td>1</td>\n",
       "      <td>Yeah, many of the things in the Paris Agreement are not good either, which I\\nwill agree with but, we are not dealing with historical emissions. THis needs\\nto be solved\\n\\n</td>\n",
       "      <td>-1.0</td>\n",
       "    </tr>\n",
       "    <tr>\n",
       "      <th>2</th>\n",
       "      <td>2021-01-11 21:18:30</td>\n",
       "      <td>Ben Bethel</td>\n",
       "      <td>Imagine this... Stimulus for solar, wind and battery programs results in $0 monthly utility bills (and auto fuel bills) for residential and commercial customers. This increases profits, makes us more competitive against other nations, and increases disposable income to spend on businesses, increases savings and investments in markets, and decreases amount governments have to provide in welfare when people need public assistance, unemployment, stimulus, which helps decrease taxes. Please debate.</td>\n",
       "      <td>0</td>\n",
       "      <td>Imagine this... Stimulus for solar, wind and battery programs results in $0\\nmonthly utility bills (and auto fuel bills) for residential and commercial\\ncustomers. This increases profits, makes us more competitive against other\\nnations, and increases disposable income to spend on businesses, increases\\nsavings and investments in markets, and decreases amount governments have to\\nprovide in welfare when people need public assistance, unemployment, stimulus,\\nwhich helps decrease taxes. Please debate.\\n\\n</td>\n",
       "      <td>-1.0</td>\n",
       "    </tr>\n",
       "    <tr>\n",
       "      <th>3</th>\n",
       "      <td>2020-10-18 04:48:07</td>\n",
       "      <td>Iceman</td>\n",
       "      <td>For liberals, this is their religion. Don’t even bother arguing with them. They’re just smarter and better than us small minded conservatives.</td>\n",
       "      <td>0</td>\n",
       "      <td>For liberals, this is their religion. Don’t even bother arguing with them.\\nThey’re just smarter and better than us small minded conservatives.\\n\\n</td>\n",
       "      <td>-1.0</td>\n",
       "    </tr>\n",
       "    <tr>\n",
       "      <th>4</th>\n",
       "      <td>2020-10-15 13:17:28</td>\n",
       "      <td>Sam Lair</td>\n",
       "      <td>It is the rapid rate of rising global temperatures that will most thwart our best attempts to both adapt to climate change and to mitigate global warming. Minor climate changes on the local scale have caused past civilizations to collapse. We’re facing upcoming major changes on a global scale. In the end, there’ll be no where left to run to.</td>\n",
       "      <td>0</td>\n",
       "      <td>It is the rapid rate of rising global temperatures that will most thwart our\\nbest attempts to both adapt to climate change and to mitigate global warming.\\nMinor climate changes on the local scale have caused past civilizations to\\ncollapse. We’re facing upcoming major changes on a global scale. In the end,\\nthere’ll be no where left to run to.\\n\\n</td>\n",
       "      <td>-1.0</td>\n",
       "    </tr>\n",
       "  </tbody>\n",
       "</table>\n",
       "</div>"
      ],
      "text/plain": [
       "           publishedAt                       authorName  \\\n",
       "0  2021-01-18 20:32:32  Vighneshwar Anantharamakrishnan   \n",
       "1  2021-01-18 20:34:15  Vighneshwar Anantharamakrishnan   \n",
       "2  2021-01-11 21:18:30                       Ben Bethel   \n",
       "3  2020-10-18 04:48:07                           Iceman   \n",
       "4  2020-10-15 13:17:28                         Sam Lair   \n",
       "\n",
       "                                                                                                                                                                                                                                                                                                                                                                                                                                                                                                                                                                                                                                                                                                                                                                                                                                                                                                                                                                                                                                                                                                                                                                                                                                                                                     text  \\\n",
       "0  Really climate change comes in four parts tell that to the climate scientists. <br />1.)- does climate change? Yes it does no one is denying it<br />2.)- Do humans probably affect the climate? really you think that a population of over 8 billion people doesn&#39;t have an impact on the environment and the climate.<br />3.)-Is it a crisis, might be possible? Yeah explain that to the people who are affected by Hurricanes, Tornados, Wildfires, and Earthquakes about it not being a crisis. <br />4.)-Is anything we do going to make a significant difference? Yes, I agree that anything we do will not make the issue better if we keep burning fossil fuels and elevating the weather patterns, also without trying to take back the historical carbon emissions the United States and other countries like the E.U. we won&#39;t solve anything just increasing the number of problems.<br />Hurting poor people really? The people that are hurt by this and almost all citizens are corporations who do bad business practices and cause issues on the environment, we have people drinking PHAS infested chemicals, lead and other toxic waste so don&#39;t start saying this is one person fault its all of our fault for not taking action and doing anything.   \n",
       "1                                                                                                                                                                                                                                                                                                                                                                                                                                                                                                                                                                                                                                                                                                                                                                                                                                                                                                                                                                                                                                                                                                                 Yeah, many of the things in the Paris Agreement are not good either, which I will agree with but, we are not dealing with historical emissions. THis needs to be solved   \n",
       "2                                                                                                                                                                                                                                                                                                                                                                                                                                                                                                                                                                                                                                                                                                                                                                     Imagine this... Stimulus for solar, wind and battery programs results in $0 monthly utility bills (and auto fuel bills) for residential and commercial customers. This increases profits, makes us more competitive against other nations, and increases disposable income to spend on businesses, increases savings and investments in markets, and decreases amount governments have to provide in welfare when people need public assistance, unemployment, stimulus, which helps decrease taxes. Please debate.   \n",
       "3                                                                                                                                                                                                                                                                                                                                                                                                                                                                                                                                                                                                                                                                                                                                                                                                                                                                                                                                                                                                                                                                                                                                          For liberals, this is their religion. Don’t even bother arguing with them. They’re just smarter and better than us small minded conservatives.   \n",
       "4                                                                                                                                                                                                                                                                                                                                                                                                                                                                                                                                                                                                                                                                                                                                                                                                                                                                                                                                 It is the rapid rate of rising global temperatures that will most thwart our best attempts to both adapt to climate change and to mitigate global warming. Minor climate changes on the local scale have caused past civilizations to collapse. We’re facing upcoming major changes on a global scale. In the end, there’ll be no where left to run to.   \n",
       "\n",
       "   isReply  \\\n",
       "0        0   \n",
       "1        1   \n",
       "2        0   \n",
       "3        0   \n",
       "4        0   \n",
       "\n",
       "                                                                                                                                                                                                                                                                                                                                                                                                                                                                                                                                                                                                                                                                                                                                                                                                                                                                                                                                                                                                                                                                                                                                                                                                                                                                          cleaned  \\\n",
       "0  Really climate change comes in four parts tell that to the climate scientists.  \\n1.)- does climate change? Yes it does no one is denying it  \\n2.)- Do humans probably affect the climate? really you think that a population\\nof over 8 billion people doesn't have an impact on the environment and the\\nclimate.  \\n3.)-Is it a crisis, might be possible? Yeah explain that to the people who are\\naffected by Hurricanes, Tornados, Wildfires, and Earthquakes about it not\\nbeing a crisis.  \\n4.)-Is anything we do going to make a significant difference? Yes, I agree\\nthat anything we do will not make the issue better if we keep burning fossil\\nfuels and elevating the weather patterns, also without trying to take back the\\nhistorical carbon emissions the United States and other countries like the\\nE.U. we won't solve anything just increasing the number of problems.  \\nHurting poor people really? The people that are hurt by this and almost all\\ncitizens are corporations who do bad business practices and cause issues on\\nthe environment, we have people drinking PHAS infested chemicals, lead and\\nother toxic waste so don't start saying this is one person fault its all of\\nour fault for not taking action and doing anything.\\n\\n   \n",
       "1                                                                                                                                                                                                                                                                                                                                                                                                                                                                                                                                                                                                                                                                                                                                                                                                                                                                                                                                                                                                                                                                                                   Yeah, many of the things in the Paris Agreement are not good either, which I\\nwill agree with but, we are not dealing with historical emissions. THis needs\\nto be solved\\n\\n   \n",
       "2                                                                                                                                                                                                                                                                                                                                                                                                                                                                                                                                                                                                                                                                                                                                                   Imagine this... Stimulus for solar, wind and battery programs results in $0\\nmonthly utility bills (and auto fuel bills) for residential and commercial\\ncustomers. This increases profits, makes us more competitive against other\\nnations, and increases disposable income to spend on businesses, increases\\nsavings and investments in markets, and decreases amount governments have to\\nprovide in welfare when people need public assistance, unemployment, stimulus,\\nwhich helps decrease taxes. Please debate.\\n\\n   \n",
       "3                                                                                                                                                                                                                                                                                                                                                                                                                                                                                                                                                                                                                                                                                                                                                                                                                                                                                                                                                                                                                                                                                                                             For liberals, this is their religion. Don’t even bother arguing with them.\\nThey’re just smarter and better than us small minded conservatives.\\n\\n   \n",
       "4                                                                                                                                                                                                                                                                                                                                                                                                                                                                                                                                                                                                                                                                                                                                                                                                                                                                                                                 It is the rapid rate of rising global temperatures that will most thwart our\\nbest attempts to both adapt to climate change and to mitigate global warming.\\nMinor climate changes on the local scale have caused past civilizations to\\ncollapse. We’re facing upcoming major changes on a global scale. In the end,\\nthere’ll be no where left to run to.\\n\\n   \n",
       "\n",
       "   label_manual  \n",
       "0          -1.0  \n",
       "1          -1.0  \n",
       "2          -1.0  \n",
       "3          -1.0  \n",
       "4          -1.0  "
      ]
     },
     "execution_count": 20,
     "metadata": {
      "tags": []
     },
     "output_type": "execute_result"
    }
   ],
   "source": [
    "data.head()"
   ]
  },
  {
   "cell_type": "code",
   "execution_count": null,
   "metadata": {
    "colab": {
     "base_uri": "https://localhost:8080/"
    },
    "id": "qJpuhRIokXdp",
    "outputId": "c230d8c5-5b2e-4d34-f066-74a79ccebfe4"
   },
   "outputs": [
    {
     "name": "stdout",
     "output_type": "stream",
     "text": [
      "Number of comments: 699\n"
     ]
    }
   ],
   "source": [
    "number_of_comments = data.shape[0]\n",
    "print('Number of comments:', number_of_comments)"
   ]
  },
  {
   "cell_type": "code",
   "execution_count": null,
   "metadata": {
    "id": "gGMNvB7Y9btb"
   },
   "outputs": [],
   "source": [
    "embeddings = np.load(output_path+'/embeddings'+model_type+'.npy', mmap_mode=None, allow_pickle=False, fix_imports=True, encoding='ASCII')"
   ]
  },
  {
   "cell_type": "markdown",
   "metadata": {
    "id": "aM2mOa869bv9"
   },
   "source": [
    "## Dimensionality reduction with UMAP\n",
    "We reduce the number of dimensions of our embeddings to make possibly present clusters more pronounced. The number of dimensions (num_dimensions) depends on the number of samples"
   ]
  },
  {
   "cell_type": "code",
   "execution_count": null,
   "metadata": {
    "id": "1DAXnF6p9bye"
   },
   "outputs": [],
   "source": [
    "# Set the number of dimensions to reduce to\n",
    "num_dimensions =100\n",
    "\n",
    "reducer_clustering = umap.UMAP(n_neighbors=50, \n",
    "                     n_components=num_dimensions, \n",
    "                     metric='cosine', \n",
    "                     #n_epochs=200, \n",
    "                     learning_rate=.5,\n",
    "                     init='spectral', \n",
    "                     min_dist=0,\n",
    "                     #spread=5.0, \n",
    "                     #set_op_mix_ratio=1.0, \n",
    "                     #local_connectivity=1.0, \n",
    "                     #negative_sample_rate=5, \n",
    "                     #transform_queue_size=4.0, \n",
    "                     force_approximation_algorithm=True, \n",
    "                     unique=True)\n",
    "embeddings_umap = reducer_clustering.fit_transform(embeddings)"
   ]
  },
  {
   "cell_type": "markdown",
   "metadata": {
    "id": "x6KursoFHNwe"
   },
   "source": [
    "## Optimize the Number of Clusters"
   ]
  },
  {
   "cell_type": "code",
   "execution_count": null,
   "metadata": {
    "colab": {
     "base_uri": "https://localhost:8080/",
     "height": 279
    },
    "id": "6PVQ2mVn9b3K",
    "outputId": "49629015-2e2b-45c1-f89c-5393c37374a3"
   },
   "outputs": [
    {
     "data": {
      "image/png": "[encoded data removed]",
      "text/plain": [
       "<Figure size 432x288 with 1 Axes>"
      ]
     },
     "metadata": {
      "needs_background": "light",
      "tags": []
     },
     "output_type": "display_data"
    }
   ],
   "source": [
    "#optimize number of clusters\n",
    "optimize_number_of_clusters = True#@param {type:'boolean'}\n",
    "\n",
    "min_clusters=2 \n",
    "max_clusters=math.ceil(number_of_comments/10)\n",
    "step=5\n",
    "\n",
    "if optimize_number_of_clusters:\n",
    "    rows_list = []\n",
    "    inertias = []\n",
    "    n_clusters = []\n",
    "    silouette_scores = []\n",
    "    init_param = 'k-medoids++' #@param ['random', 'heuristic', 'k-medoids++']\n",
    "    random_state_param=1234 #@param {type:'number'}\n",
    "    for i in range(min_clusters,max_clusters, step):\n",
    "        temp_clustering = KMedoids(n_clusters=i, metric='euclidean', init=init_param, max_iter=200, random_state=random_state_param).fit(embeddings_umap)\n",
    "        silhouette_avg = silhouette_score(embeddings_umap, temp_clustering.labels_)\n",
    "        # print(\"n_clusters:\",i, \"silhouette_avg:\",silhouette_avg)\n",
    "        silhouette_dict = {'number of clusters': i, 'silhouette average': silhouette_avg}\n",
    "        rows_list.append(silhouette_dict)\n",
    "    results = pd.DataFrame(rows_list)\n",
    "    sns.lineplot(x = 'number of clusters', y = 'silhouette average',data = results)"
   ]
  },
  {
   "cell_type": "code",
   "execution_count": null,
   "metadata": {
    "colab": {
     "base_uri": "https://localhost:8080/",
     "height": 359
    },
    "id": "3eNfIHlnoryL",
    "outputId": "a2f16864-e735-4a77-a897-7f7fcea5c99d"
   },
   "outputs": [
    {
     "data": {
      "text/html": [
       "<div>\n",
       "<style scoped>\n",
       "    .dataframe tbody tr th:only-of-type {\n",
       "        vertical-align: middle;\n",
       "    }\n",
       "\n",
       "    .dataframe tbody tr th {\n",
       "        vertical-align: top;\n",
       "    }\n",
       "\n",
       "    .dataframe thead th {\n",
       "        text-align: right;\n",
       "    }\n",
       "</style>\n",
       "<table border=\"1\" class=\"dataframe\">\n",
       "  <thead>\n",
       "    <tr style=\"text-align: right;\">\n",
       "      <th></th>\n",
       "      <th>number of clusters</th>\n",
       "      <th>silhouette average</th>\n",
       "    </tr>\n",
       "  </thead>\n",
       "  <tbody>\n",
       "    <tr>\n",
       "      <th>0</th>\n",
       "      <td>2</td>\n",
       "      <td>0.412713</td>\n",
       "    </tr>\n",
       "    <tr>\n",
       "      <th>4</th>\n",
       "      <td>22</td>\n",
       "      <td>0.357422</td>\n",
       "    </tr>\n",
       "    <tr>\n",
       "      <th>5</th>\n",
       "      <td>27</td>\n",
       "      <td>0.337640</td>\n",
       "    </tr>\n",
       "    <tr>\n",
       "      <th>6</th>\n",
       "      <td>32</td>\n",
       "      <td>0.325287</td>\n",
       "    </tr>\n",
       "    <tr>\n",
       "      <th>7</th>\n",
       "      <td>37</td>\n",
       "      <td>0.309124</td>\n",
       "    </tr>\n",
       "    <tr>\n",
       "      <th>1</th>\n",
       "      <td>7</td>\n",
       "      <td>0.304897</td>\n",
       "    </tr>\n",
       "    <tr>\n",
       "      <th>10</th>\n",
       "      <td>52</td>\n",
       "      <td>0.303891</td>\n",
       "    </tr>\n",
       "    <tr>\n",
       "      <th>8</th>\n",
       "      <td>42</td>\n",
       "      <td>0.303708</td>\n",
       "    </tr>\n",
       "    <tr>\n",
       "      <th>13</th>\n",
       "      <td>67</td>\n",
       "      <td>0.301890</td>\n",
       "    </tr>\n",
       "    <tr>\n",
       "      <th>2</th>\n",
       "      <td>12</td>\n",
       "      <td>0.301123</td>\n",
       "    </tr>\n",
       "  </tbody>\n",
       "</table>\n",
       "</div>"
      ],
      "text/plain": [
       "    number of clusters  silhouette average\n",
       "0                    2            0.412713\n",
       "4                   22            0.357422\n",
       "5                   27            0.337640\n",
       "6                   32            0.325287\n",
       "7                   37            0.309124\n",
       "1                    7            0.304897\n",
       "10                  52            0.303891\n",
       "8                   42            0.303708\n",
       "13                  67            0.301890\n",
       "2                   12            0.301123"
      ]
     },
     "execution_count": 69,
     "metadata": {
      "tags": []
     },
     "output_type": "execute_result"
    }
   ],
   "source": [
    "results = results.sort_values(by=['silhouette average'], ascending=False)\n",
    "results.head(10)"
   ]
  },
  {
   "cell_type": "code",
   "execution_count": null,
   "metadata": {
    "colab": {
     "base_uri": "https://localhost:8080/"
    },
    "id": "-mOnp1ZgmuVl",
    "outputId": "472db781-65b6-477a-f51d-9cafca6559f7"
   },
   "outputs": [
    {
     "name": "stdout",
     "output_type": "stream",
     "text": [
      "Optimal number of clusters: 57\n"
     ]
    }
   ],
   "source": [
    "x = results['number of clusters']\n",
    "y = results['silhouette average']\n",
    "kn = kneed.KneeLocator(x, y, curve='convex')\n",
    "number_of_clusters = kn.knee\n",
    "print('Optimal number of clusters:', number_of_clusters)"
   ]
  },
  {
   "cell_type": "markdown",
   "metadata": {
    "id": "rVCO0sD0HVWh"
   },
   "source": [
    "## Clustering with KMedoids"
   ]
  },
  {
   "cell_type": "code",
   "execution_count": null,
   "metadata": {
    "id": "IGDN6_Um9b5_"
   },
   "outputs": [],
   "source": [
    "init_param = 'k-medoids++' #@param ['random', 'heuristic', 'k-medoids++']\n",
    "clustering_model = KMedoids(n_clusters=number_of_clusters,\n",
    "                            metric='cosine', \n",
    "                            init=init_param, \n",
    "                            max_iter=150, \n",
    "                            random_state=None).fit(embeddings_umap)\n",
    "clustering_model\n",
    "labels = clustering_model.labels_\n",
    "data[\"label_kmedoids\"] = labels\n",
    "# print(\"cluster\",\"members\", data[\"label_kmedoids\"].value_counts().sort_values())\n",
    "\n",
    "clustering_model.inertia_\n",
    "\n",
    "medoids_indices = clustering_model.medoid_indices_"
   ]
  },
  {
   "cell_type": "code",
   "execution_count": null,
   "metadata": {
    "id": "XHB8NNta9b9D"
   },
   "outputs": [],
   "source": [
    "#calculate distances\n",
    "distances = np.diag(pairwise_distances(X = clustering_model.cluster_centers_[labels], Y = embeddings_umap[:], metric='cosine'))\n",
    "data[\"distance_kmedoids\"] = distances"
   ]
  },
  {
   "cell_type": "markdown",
   "metadata": {
    "id": "Z5V0OXW_9cA0"
   },
   "source": [
    "## Dimensionality Reduction for Visualization"
   ]
  },
  {
   "cell_type": "code",
   "execution_count": null,
   "metadata": {
    "id": "WhJurCqd9cDu"
   },
   "outputs": [],
   "source": [
    "num_dimensions =2\n",
    "\n",
    "reducer_visualization = umap.UMAP(n_neighbors=50, \n",
    "                                  n_components=num_dimensions, \n",
    "                                  metric='cosine', \n",
    "                                  output_metric='euclidean', \n",
    "                                  #n_epochs=200, \n",
    "                                  learning_rate=.5,\n",
    "                                  init='spectral', \n",
    "                                  min_dist=.1,\n",
    "                                  spread=5.0, \n",
    "                                  set_op_mix_ratio=1.0, \n",
    "                                  local_connectivity=1.0, \n",
    "                                  negative_sample_rate=5, \n",
    "                                  transform_queue_size=4.0, \n",
    "                                  force_approximation_algorithm=True, \n",
    "                                  unique=True)\n",
    "embeddings_umap_2d = reducer_clustering.fit_transform(embeddings)"
   ]
  },
  {
   "cell_type": "markdown",
   "metadata": {
    "id": "jLWdppDa9cGT"
   },
   "source": [
    "## Visualize Clustering Results"
   ]
  },
  {
   "cell_type": "code",
   "execution_count": null,
   "metadata": {
    "colab": {
     "base_uri": "https://localhost:8080/",
     "height": 922
    },
    "id": "eupcOxSt9cJK",
    "outputId": "816f7981-ee8a-44ff-cd42-67e4ff01ed6f"
   },
   "outputs": [
    {
     "data": {
      "text/plain": [
       "<seaborn.axisgrid.FacetGrid at 0x7f69db0277b8>"
      ]
     },
     "execution_count": 74,
     "metadata": {
      "tags": []
     },
     "output_type": "execute_result"
    },
    {
     "data": {
      "image/png": "[encoded data removed]",
      "text/plain": [
       "<Figure size 805.625x720 with 1 Axes>"
      ]
     },
     "metadata": {
      "needs_background": "light",
      "tags": []
     },
     "output_type": "display_data"
    }
   ],
   "source": [
    "#@markdown Set the color palette used for visualizing different clusters\n",
    "palette_param = \"tab10\" #@param ['Accent','cubehelix', \"tab10\", 'Paired', \"Spectral\"]\n",
    "#@markdown Set opacity of data points (1 = opaque, 0 = invisible)\n",
    "alpha_param = 0.16 #@param {type:\"slider\", min:0, max:1, step:0.01}\n",
    "\n",
    "\n",
    "sns.relplot(x = embeddings_umap_2d[:, 0], y = embeddings_umap_2d[:, 1],  hue = data['label_kmedoids'], palette = palette_param,alpha = alpha_param,height = 10)"
   ]
  },
  {
   "cell_type": "markdown",
   "metadata": {
    "id": "qc5C0UeY0_ON"
   },
   "source": [
    "## Print Medoids and cluster statistics"
   ]
  },
  {
   "cell_type": "code",
   "execution_count": null,
   "metadata": {
    "colab": {
     "base_uri": "https://localhost:8080/",
     "height": 1000
    },
    "id": "hmqQ0a3z0_ON",
    "outputId": "0726d6d5-97b2-48a9-f97d-1d847dd4cb91"
   },
   "outputs": [
    {
     "data": {
      "text/html": [
       "<div>\n",
       "<style scoped>\n",
       "    .dataframe tbody tr th:only-of-type {\n",
       "        vertical-align: middle;\n",
       "    }\n",
       "\n",
       "    .dataframe tbody tr th {\n",
       "        vertical-align: top;\n",
       "    }\n",
       "\n",
       "    .dataframe thead th {\n",
       "        text-align: right;\n",
       "    }\n",
       "</style>\n",
       "<table border=\"1\" class=\"dataframe\">\n",
       "  <thead>\n",
       "    <tr style=\"text-align: right;\">\n",
       "      <th></th>\n",
       "      <th>publishedAt</th>\n",
       "      <th>authorName</th>\n",
       "      <th>text</th>\n",
       "      <th>isReply</th>\n",
       "      <th>cleaned</th>\n",
       "      <th>label_manual</th>\n",
       "      <th>label_kmedoids</th>\n",
       "      <th>distance_kmedoids</th>\n",
       "    </tr>\n",
       "  </thead>\n",
       "  <tbody>\n",
       "    <tr>\n",
       "      <th>562</th>\n",
       "      <td>2017-09-21 18:53:31</td>\n",
       "      <td>Doc Bauk</td>\n",
       "      <td>Ken Van de Burgt you are welcome to your hypothesis but the next step is to prove it. The link above shows you how you can do this in the video. You also need to add in some natural variation and those can be seen in the video in this link. Have fun doing some science. Aka proving your hypothesis. The work is waiting for your results. https://www.skepticalscience.com/co2-temperature-correlation.htm</td>\n",
       "      <td>1</td>\n",
       "      <td>you are welcome to your hypothesis but the next step is to\\nprove it. The link above shows you how you can do this in the video. You also\\nneed to add in some natural variation and those can be seen in the video in\\nthis link. Have fun doing some science. Aka proving your hypothesis. The work\\nis waiting for your results. \\ncorrelation.htm\\n\\n</td>\n",
       "      <td>-1.0</td>\n",
       "      <td>0</td>\n",
       "      <td>5.960464e-08</td>\n",
       "    </tr>\n",
       "    <tr>\n",
       "      <th>221</th>\n",
       "      <td>2018-05-28 14:56:29</td>\n",
       "      <td>Francisco Dueñas</td>\n",
       "      <td>STOSSELL is REALLY stupid....</td>\n",
       "      <td>0</td>\n",
       "      <td>STOSSELL is REALLY stupid....\\n\\n</td>\n",
       "      <td>-1.0</td>\n",
       "      <td>1</td>\n",
       "      <td>0.000000e+00</td>\n",
       "    </tr>\n",
       "    <tr>\n",
       "      <th>8</th>\n",
       "      <td>2020-08-04 21:46:49</td>\n",
       "      <td>Eric Fournier</td>\n",
       "      <td>Natural climate change is driven by just 2 things: The sun, and the Earth&amp;#39;s axial tilt. Therefore, of course, climate change is real. Right now we&amp;#39;re enjoying a warming period in Earth&amp;#39;s history, as the Earth has been tilting more and more SE on its axis toward the sun on summer side of orbit---which means sunlight is more and more direct in the N hemisphere. As for MAN-MADE climate change, that too is real. But only in the form of stratospheric aerosols, and how they&amp;#39;re being injected into the atmosphere to buy time against the warming.</td>\n",
       "      <td>0</td>\n",
       "      <td>Natural climate change is driven by just 2 things: The sun, and the Earth's\\naxial tilt. Therefore, of course, climate change is real. Right now we're\\nenjoying a warming period in Earth's history, as the Earth has been tilting\\nmore and more SE on its axis toward the sun on summer side of orbit---which\\nmeans sunlight is more and more direct in the N hemisphere. As for MAN-MADE\\nclimate change, that too is real. But only in the form of stratospheric\\naerosols, and how they're being injected into the atmosphere to buy time\\nagainst the warming.\\n\\n</td>\n",
       "      <td>-1.0</td>\n",
       "      <td>2</td>\n",
       "      <td>1.192093e-07</td>\n",
       "    </tr>\n",
       "    <tr>\n",
       "      <th>336</th>\n",
       "      <td>2018-04-22 19:06:19</td>\n",
       "      <td>David Hoffman</td>\n",
       "      <td>Michael Rudge Don't pay any attention to this anti copy and paster, he left this exact comment on Jon LeVitre's comment 3 months ago except he referred to Carlson as \"he\" and has asked the exact same questions on at least 3 other comment threads. His shtick seems to be calling anyone who disagrees with him \"dumbass\" and saying they only believe scientists cause they went to school.</td>\n",
       "      <td>1</td>\n",
       "      <td>Michael Rudge Don't pay any attention to this anti copy and paster, he left\\nthis exact comment on 's comment 3 months ago except he referred to\\nCarlson as \"he\" and has asked the exact same questions on at least 3 other\\ncomment threads. His shtick seems to be calling anyone who disagrees with him\\n\"dumbass\" and saying they only believe scientists cause they went to school.\\n\\n</td>\n",
       "      <td>-1.0</td>\n",
       "      <td>3</td>\n",
       "      <td>1.788139e-07</td>\n",
       "    </tr>\n",
       "    <tr>\n",
       "      <th>343</th>\n",
       "      <td>2017-09-22 16:01:44</td>\n",
       "      <td>Ken Van de Burgt</td>\n",
       "      <td>I disagree with anyone who has &amp;#39;homogenized&amp;#39;, &amp;#39;fiddled&amp;#39;, &amp;#39;fudged&amp;#39;, or &amp;#39;fraudulently manipulated&amp;#39; the data. It may have been done for the right reasons but the temperature data adjustments are best compared to stirring up already murky waters. &lt;br /&gt;&lt;br /&gt;When you leave out the &amp;#39;homogenized&amp;#39; surface temperature data all you have left is radiosonde and Satellite data that only goes back to 1958 and 1979 respectively. There hasn&amp;#39;t been a long enough record to know if temperature has been rising or falling or if the changes are unusual. &lt;br /&gt;&lt;br /&gt;Certainly temperature isn&amp;#39;t rising anywhere near as fast as the climate models have been predicting. The models are profoundly wrong and so the CO2 warming hypothesis is falsified. &lt;br /&gt;&lt;br /&gt;The information that the models are wrong has been widely circulated for at least 10 years. There is no excuse for continued ignorance of the science that shows that the warming is due to solar activity and that hardly any of it, perhaps 0.01C, is due to carbon dioxide. &lt;br /&gt;&lt;br /&gt;Political leaders, such as Canada&amp;#39;s Environment Minister Catherine McKenna, are making policy decisions on the UN IPCC reports that are based on the scientifically falsified climate models. McKenna and any other politician that is still on the carbon pricing narrative should resign from government for failure to do due diligence.</td>\n",
       "      <td>0</td>\n",
       "      <td>I disagree with anyone who has 'homogenized', 'fiddled', 'fudged', or\\n'fraudulently manipulated' the data. It may have been done for the right\\nreasons but the temperature data adjustments are best compared to stirring up\\nalready murky waters.  \\n  \\nWhen you leave out the 'homogenized' surface temperature data all you have\\nleft is radiosonde and Satellite data that only goes back to 1958 and 1979\\nrespectively. There hasn't been a long enough record to know if temperature\\nhas been rising or falling or if the changes are unusual.  \\n  \\nCertainly temperature isn't rising anywhere near as fast as the climate models\\nhave been predicting. The models are profoundly wrong and so the CO2 warming\\nhypothesis is falsified.  \\n  \\nThe information that the models are wrong has been widely circulated for at\\nleast 10 years. There is no excuse for continued ignorance of the science that\\nshows that the warming is due to solar activity and that hardly any of it,\\nperhaps 0.01C, is due to carbon dioxide.  \\n  \\nPolitical leaders, such as Canada's Environment Minister Catherine McKenna,\\nare making policy decisions on the UN IPCC reports that are based on the\\nscientifically falsified climate models. McKenna and any other politician that\\nis still on the carbon pricing narrative should resign from government for\\nfailure to do due diligence.\\n\\n</td>\n",
       "      <td>-1.0</td>\n",
       "      <td>4</td>\n",
       "      <td>0.000000e+00</td>\n",
       "    </tr>\n",
       "    <tr>\n",
       "      <th>249</th>\n",
       "      <td>2018-05-22 03:03:33</td>\n",
       "      <td>Delilah's Beau</td>\n",
       "      <td>That is 6 Trillion GLOBALLY you silly paid troll.</td>\n",
       "      <td>1</td>\n",
       "      <td>That is 6 Trillion GLOBALLY you silly paid troll.\\n\\n</td>\n",
       "      <td>-1.0</td>\n",
       "      <td>5</td>\n",
       "      <td>0.000000e+00</td>\n",
       "    </tr>\n",
       "    <tr>\n",
       "      <th>612</th>\n",
       "      <td>2018-05-10 01:03:48</td>\n",
       "      <td>Ed Walker</td>\n",
       "      <td>There is no ozone hole, there never was. Cfcs etc. never destroyed the ozone layer. It's all lies from brainwashed leftist technocratic scientists. The ozone fraud cost the consumer trillions.</td>\n",
       "      <td>1</td>\n",
       "      <td>There is no ozone hole, there never was. Cfcs etc. never destroyed the ozone\\nlayer. It's all lies from brainwashed leftist technocratic scientists. The\\nozone fraud cost the consumer trillions.\\n\\n</td>\n",
       "      <td>-1.0</td>\n",
       "      <td>6</td>\n",
       "      <td>1.788139e-07</td>\n",
       "    </tr>\n",
       "    <tr>\n",
       "      <th>377</th>\n",
       "      <td>2017-09-19 23:20:35</td>\n",
       "      <td>Sorphis9k</td>\n",
       "      <td>Stossel the fossil</td>\n",
       "      <td>0</td>\n",
       "      <td>Stossel the fossil\\n\\n</td>\n",
       "      <td>-1.0</td>\n",
       "      <td>7</td>\n",
       "      <td>0.000000e+00</td>\n",
       "    </tr>\n",
       "    <tr>\n",
       "      <th>65</th>\n",
       "      <td>2019-06-10 21:21:54</td>\n",
       "      <td>Proemed44G</td>\n",
       "      <td>And that proves what? Too late to learn now huh Vollox?</td>\n",
       "      <td>1</td>\n",
       "      <td>And that proves what? Too late to learn now huh Vollox?\\n\\n</td>\n",
       "      <td>-1.0</td>\n",
       "      <td>8</td>\n",
       "      <td>0.000000e+00</td>\n",
       "    </tr>\n",
       "    <tr>\n",
       "      <th>550</th>\n",
       "      <td>2017-09-22 15:23:56</td>\n",
       "      <td>RANDALL SEMRAU</td>\n",
       "      <td>The NOAA statement you refer to can be found here in Section 2(E) https://www.gfdl.noaa.gov/global-warming-and-hurricanes/</td>\n",
       "      <td>1</td>\n",
       "      <td>The NOAA statement you refer to can be found here in Section 2(E)\\n\\n\\n</td>\n",
       "      <td>-1.0</td>\n",
       "      <td>9</td>\n",
       "      <td>0.000000e+00</td>\n",
       "    </tr>\n",
       "    <tr>\n",
       "      <th>38</th>\n",
       "      <td>2019-06-11 16:52:31</td>\n",
       "      <td>Proemed44G</td>\n",
       "      <td>@pitiful anonymous U think a day in weather determines CLIMATE? Apparently U dont KNOW the diff betn climate and weather! It doesnt just get uniformly warming all over the planet all at once.... Just like always we have air masses... OMG U deniers can be such Simletons</td>\n",
       "      <td>1</td>\n",
       "      <td>@pitiful anonymous U think a day in weather determines CLIMATE? Apparently U\\ndont KNOW the diff betn climate and weather! It doesnt just get uniformly\\nwarming all over the planet all at once.... Just like always we have air\\nmasses... OMG U deniers can be such Simletons\\n\\n</td>\n",
       "      <td>-1.0</td>\n",
       "      <td>10</td>\n",
       "      <td>0.000000e+00</td>\n",
       "    </tr>\n",
       "    <tr>\n",
       "      <th>424</th>\n",
       "      <td>2018-04-14 17:08:04</td>\n",
       "      <td>reference2me</td>\n",
       "      <td>Science gets more things wrong than right... check it out</td>\n",
       "      <td>1</td>\n",
       "      <td>Science gets more things wrong than right... check it out\\n\\n</td>\n",
       "      <td>-1.0</td>\n",
       "      <td>11</td>\n",
       "      <td>1.788139e-07</td>\n",
       "    </tr>\n",
       "    <tr>\n",
       "      <th>254</th>\n",
       "      <td>2018-03-29 23:22:38</td>\n",
       "      <td>R Carson</td>\n",
       "      <td>Here is the science: “It is extremely likely that more than half of the observed increase in… temperature… is caused by anthropogenic forcings.” (IPCC, 2013) “Extremely likely” is defined as over 90% confidence.</td>\n",
       "      <td>0</td>\n",
       "      <td>Here is the science: “It is extremely likely that more than half of the\\nobserved increase in… temperature… is caused by anthropogenic forcings.”\\n(IPCC, 2013) “Extremely likely” is defined as over 90% confidence.\\n\\n</td>\n",
       "      <td>-1.0</td>\n",
       "      <td>12</td>\n",
       "      <td>0.000000e+00</td>\n",
       "    </tr>\n",
       "    <tr>\n",
       "      <th>416</th>\n",
       "      <td>2018-08-03 09:43:48</td>\n",
       "      <td>Zivan Triwiyasa</td>\n",
       "      <td>Rod Martin, Jr. You think that we're that dumb that when you say that you're trolling means we'll believe it?</td>\n",
       "      <td>1</td>\n",
       "      <td>You think that we're that dumb that when you say that you're\\ntrolling means we'll believe it?\\n\\n</td>\n",
       "      <td>-1.0</td>\n",
       "      <td>13</td>\n",
       "      <td>0.000000e+00</td>\n",
       "    </tr>\n",
       "    <tr>\n",
       "      <th>371</th>\n",
       "      <td>2017-09-20 16:08:08</td>\n",
       "      <td>Giorgio Cooper</td>\n",
       "      <td>There are hundreds of factors affecting climate change ..... we know that, the scientists know that, everybody should know that .......&lt;br /&gt; because its a fact ....... water vapor is the most important greenhouse gas .... roughly 220 times more important than CO2 ....... Question ; why the hysterics about CO2 ???? Go figure for yourself ..........</td>\n",
       "      <td>0</td>\n",
       "      <td>There are hundreds of factors affecting climate change ..... we know that, the\\nscientists know that, everybody should know that .......  \\nbecause its a fact ....... water vapor is the most important greenhouse gas\\n.... roughly 220 times more important than CO2 ....... Question ; why the\\nhysterics about CO2 ???? Go figure for yourself ..........\\n\\n</td>\n",
       "      <td>-1.0</td>\n",
       "      <td>14</td>\n",
       "      <td>0.000000e+00</td>\n",
       "    </tr>\n",
       "    <tr>\n",
       "      <th>126</th>\n",
       "      <td>2019-12-22 10:18:58</td>\n",
       "      <td>wong</td>\n",
       "      <td>Of liars.</td>\n",
       "      <td>1</td>\n",
       "      <td>Of liars.\\n\\n</td>\n",
       "      <td>-1.0</td>\n",
       "      <td>15</td>\n",
       "      <td>1.192093e-07</td>\n",
       "    </tr>\n",
       "    <tr>\n",
       "      <th>265</th>\n",
       "      <td>2018-04-14 17:37:54</td>\n",
       "      <td>reference2me</td>\n",
       "      <td>'Scienceblind' Explains Why America Keeps Getting Science Wrong ... https://www.inverse.com › Science › Climate Change May 15, 2017 - In this new book Scienceblind, psychologist Andrew Shtulman explains why so many people get basic science wrong.</td>\n",
       "      <td>1</td>\n",
       "      <td>'Scienceblind' Explains Why America Keeps Getting Science Wrong ...\\n › Science › Climate Change May 15, 2017 - In this new\\nbook Scienceblind, psychologist Andrew Shtulman explains why so many people\\nget basic science wrong.\\n\\n</td>\n",
       "      <td>-1.0</td>\n",
       "      <td>16</td>\n",
       "      <td>5.960464e-08</td>\n",
       "    </tr>\n",
       "    <tr>\n",
       "      <th>572</th>\n",
       "      <td>2017-09-19 22:56:18</td>\n",
       "      <td>Master Chief 00117</td>\n",
       "      <td>LMAO.. 32 Megatons and we would all be dead you public schooled imbecile. And you don;t know what is in their model. They never released It. It's why a judge had to order them to turn it over. As tax payers have a right to see it. Might be why you ride the Short Bus. You got robbed on an education... Damn morons...</td>\n",
       "      <td>1</td>\n",
       "      <td>LMAO.. 32 Megatons and we would all be dead you public schooled imbecile. And\\nyou don;t know what is in their model. They never released It. It's why a\\njudge had to order them to turn it over. As tax payers have a right to see it.\\nMight be why you ride the Short Bus. You got robbed on an education... Damn\\nmorons...\\n\\n</td>\n",
       "      <td>-1.0</td>\n",
       "      <td>17</td>\n",
       "      <td>5.960464e-08</td>\n",
       "    </tr>\n",
       "    <tr>\n",
       "      <th>592</th>\n",
       "      <td>2018-05-08 20:19:10</td>\n",
       "      <td>christian almli</td>\n",
       "      <td>Yup, climate change's whole purpose was to make Al, and maybe like 4 other dudes rich. Nothing compared to the oil industry. Cousin fucking morons. All of you.</td>\n",
       "      <td>1</td>\n",
       "      <td>Yup, climate change's whole purpose was to make Al, and maybe like 4 other\\ndudes rich. Nothing compared to the oil industry. Cousin fucking morons. All\\nof you.\\n\\n</td>\n",
       "      <td>-1.0</td>\n",
       "      <td>18</td>\n",
       "      <td>0.000000e+00</td>\n",
       "    </tr>\n",
       "    <tr>\n",
       "      <th>483</th>\n",
       "      <td>2018-07-17 09:21:41</td>\n",
       "      <td>Vasily Kravtsov</td>\n",
       "      <td>TheHealthPhysicist you are an absolute moron. most of the energy and almost all of cars use fossil fuels you dumb f3ck. Renewables are extremely expensive and sometimes not good for the environment. Stupid liberals have cool-aid instead of brains i guess.</td>\n",
       "      <td>1</td>\n",
       "      <td>TheHealthPhysicist you are an absolute moron. most of the energy and almost\\nall of cars use fossil fuels you dumb f3ck. Renewables are extremely expensive\\nand sometimes not good for the environment. Stupid liberals have cool-aid\\ninstead of brains i guess.\\n\\n</td>\n",
       "      <td>-1.0</td>\n",
       "      <td>19</td>\n",
       "      <td>2.384186e-07</td>\n",
       "    </tr>\n",
       "    <tr>\n",
       "      <th>267</th>\n",
       "      <td>2017-12-29 21:42:40</td>\n",
       "      <td>true survivor</td>\n",
       "      <td>Fox news is the devil.</td>\n",
       "      <td>0</td>\n",
       "      <td>Fox news is the devil.\\n\\n</td>\n",
       "      <td>-1.0</td>\n",
       "      <td>20</td>\n",
       "      <td>1.192093e-07</td>\n",
       "    </tr>\n",
       "    <tr>\n",
       "      <th>459</th>\n",
       "      <td>2017-12-16 04:24:14</td>\n",
       "      <td>4everjoanna</td>\n",
       "      <td>RANDALL SEMRAU Hale Bopp https://climate.nasa.gov/evidence/ Plenty of solid evidence from numerous scientific studies. I know you conservative are a bit dense, so after you read it; go to the bottom to view the sited materials used in this write up. The fact you morons still deny human activity as the main cause for climate change and global warming is astonishing.</td>\n",
       "      <td>1</td>\n",
       "      <td>Plenty of solid\\nevidence from numerous scientific studies. I know you conservative are a bit\\ndense, so after you read it; go to the bottom to view the sited materials used\\nin this write up. The fact you morons still deny human activity as the main\\ncause for climate change and global warming is astonishing.\\n\\n</td>\n",
       "      <td>-1.0</td>\n",
       "      <td>21</td>\n",
       "      <td>0.000000e+00</td>\n",
       "    </tr>\n",
       "    <tr>\n",
       "      <th>534</th>\n",
       "      <td>2017-09-24 02:29:13</td>\n",
       "      <td>RANDALL SEMRAU</td>\n",
       "      <td>As comedian George Carlin accurately stated years ago; the planet is fine. The PEOPLE are fucked. The planet will simply shake us off like a bad case of fleas!</td>\n",
       "      <td>1</td>\n",
       "      <td>As comedian George Carlin accurately stated years ago; the planet is fine. The\\nPEOPLE are fucked. The planet will simply shake us off like a bad case of\\nfleas!\\n\\n</td>\n",
       "      <td>-1.0</td>\n",
       "      <td>22</td>\n",
       "      <td>0.000000e+00</td>\n",
       "    </tr>\n",
       "    <tr>\n",
       "      <th>401</th>\n",
       "      <td>2018-04-14 17:40:11</td>\n",
       "      <td>reference2me</td>\n",
       "      <td>our children got indoctrinated in our public schools ... they all saw Al Gore's video's probably more than once..</td>\n",
       "      <td>1</td>\n",
       "      <td>our children got indoctrinated in our public schools ... they all saw Al\\nGore's video's probably more than once..\\n\\n</td>\n",
       "      <td>-1.0</td>\n",
       "      <td>23</td>\n",
       "      <td>2.384186e-07</td>\n",
       "    </tr>\n",
       "    <tr>\n",
       "      <th>10</th>\n",
       "      <td>2020-02-17 21:02:33</td>\n",
       "      <td>newest bear</td>\n",
       "      <td>Remove the government aspect of this, it all goes away, government comes in, it&amp;#39;s an issue, only an issue if those who Rob you blind say it&amp;#39;s an issue.</td>\n",
       "      <td>0</td>\n",
       "      <td>Remove the government aspect of this, it all goes away, government comes in,\\nit's an issue, only an issue if those who Rob you blind say it's an issue.\\n\\n</td>\n",
       "      <td>-1.0</td>\n",
       "      <td>24</td>\n",
       "      <td>0.000000e+00</td>\n",
       "    </tr>\n",
       "    <tr>\n",
       "      <th>435</th>\n",
       "      <td>2017-09-21 15:17:36</td>\n",
       "      <td>RANDALL SEMRAU</td>\n",
       "      <td>Not only that, the insurance companies will use this as an excuse to raise the 'risk premium' for all future coverage. Despite the fact that they haven't had to shell out for a major (3+) category hurricane strike on the continental US for an unprecedented 12 years.</td>\n",
       "      <td>1</td>\n",
       "      <td>Not only that, the insurance companies will use this as an excuse to raise the\\n'risk premium' for all future coverage. Despite the fact that they haven't had\\nto shell out for a major (3+) category hurricane strike on the continental US\\nfor an unprecedented 12 years.\\n\\n</td>\n",
       "      <td>-1.0</td>\n",
       "      <td>25</td>\n",
       "      <td>1.192093e-07</td>\n",
       "    </tr>\n",
       "    <tr>\n",
       "      <th>337</th>\n",
       "      <td>2018-02-14 13:28:50</td>\n",
       "      <td>DBZFan2</td>\n",
       "      <td>how is Tucker carlson wrong here dumbass? btw i see you are great at copying and pasting left wing talking points from the liberal media and these pathetic late night comedians. who do get them from? Bill Nye? Neil degrasse tyson?! LMFAO!!! CO2 is still 0.04 % of our atmosphere like it was over 120 years ago!!! the earth has only warmed by a measly 0.8 degrees celsius since 1880 dipshit!! also since climate change is a religion and a mantra for you then why don't you stop using electricity, oil and gas for heating your house?! in fact never drive or use public transit ever again, deal?! http://www.dailywire.com/news/14888/michael-moores-dire-climate-change-prophecy-james-barrett</td>\n",
       "      <td>1</td>\n",
       "      <td>how is Tucker carlson wrong here dumbass? btw i see you are great at copying\\nand pasting left wing talking points from the liberal media and these pathetic\\nlate night comedians. who do get them from? Bill Nye? Neil degrasse tyson?!\\nLMFAO!!! CO2 is still 0.04 % of our atmosphere like it was over 120 years\\nago!!! the earth has only warmed by a measly 0.8 degrees celsius since 1880\\ndipshit!! also since climate change is a religion and a mantra for you then\\nwhy don't you stop using electricity, oil and gas for heating your house?! in\\nfact never drive or use public transit ever again, deal?!\\n\\nprophecy-james-barrett\\n\\n</td>\n",
       "      <td>-1.0</td>\n",
       "      <td>26</td>\n",
       "      <td>0.000000e+00</td>\n",
       "    </tr>\n",
       "    <tr>\n",
       "      <th>134</th>\n",
       "      <td>2018-09-24 20:24:55</td>\n",
       "      <td>Roger Alsop</td>\n",
       "      <td>The BBC says the same.</td>\n",
       "      <td>0</td>\n",
       "      <td>The BBC says the same.\\n\\n</td>\n",
       "      <td>-1.0</td>\n",
       "      <td>27</td>\n",
       "      <td>0.000000e+00</td>\n",
       "    </tr>\n",
       "    <tr>\n",
       "      <th>521</th>\n",
       "      <td>2017-09-19 04:45:52</td>\n",
       "      <td>Freeman Pennington</td>\n",
       "      <td>John Grytbakk exactly it's about control because it's all about money and power and control it's about creating fear and Chaos because it's Joseph Stalin said if you create enough chaos create enough fear the people will easily give up their freedom for some security from the state it's all about creating the vision as well so they can use us as cannon fodder against one another for the purpose of population control and what better way to institut depopulation then to use us against one another so that those in power don't have to use up their valuable resources or get the finger of blame pointed at them think about it if the globalists in their political pawns openly attack the people what would happen the people would wake up and start joining the coals of Liberty the 3DS of establishing any tyranny is deception distraction and disinformation</td>\n",
       "      <td>1</td>\n",
       "      <td>exactly it's about control because it's all about money and\\npower and control it's about creating fear and Chaos because it's Joseph\\nStalin said if you create enough chaos create enough fear the people will\\neasily give up their freedom for some security from the state it's all about\\ncreating the vision as well so they can use us as cannon fodder against one\\nanother for the purpose of population control and what better way to institut\\ndepopulation then to use us against one another so that those in power don't\\nhave to use up their valuable resources or get the finger of blame pointed at\\nthem think about it if the globalists in their political pawns openly attack\\nthe people what would happen the people would wake up and start joining the\\ncoals of Liberty the 3DS of establishing any tyranny is deception distraction\\nand disinformation\\n\\n</td>\n",
       "      <td>-1.0</td>\n",
       "      <td>28</td>\n",
       "      <td>0.000000e+00</td>\n",
       "    </tr>\n",
       "    <tr>\n",
       "      <th>392</th>\n",
       "      <td>2018-04-26 18:52:28</td>\n",
       "      <td>Justin St-Louis Wood</td>\n",
       "      <td>Your sentence should be “why I failed middle school”</td>\n",
       "      <td>1</td>\n",
       "      <td>Your sentence should be “why I failed middle school”\\n\\n</td>\n",
       "      <td>-1.0</td>\n",
       "      <td>29</td>\n",
       "      <td>0.000000e+00</td>\n",
       "    </tr>\n",
       "    <tr>\n",
       "      <th>307</th>\n",
       "      <td>2018-04-08 23:22:31</td>\n",
       "      <td>Rod Martin, Jr.</td>\n",
       "      <td>While the rest of the world goes crazy promoting global cooling in an ongoing Ice Age. Dumber than dumb. We live in an age of stupidity. Stossel is one of the smart ones.</td>\n",
       "      <td>1</td>\n",
       "      <td>While the rest of the world goes crazy promoting global cooling in an ongoing\\nIce Age. Dumber than dumb. We live in an age of stupidity. Stossel is one of\\nthe smart ones.\\n\\n</td>\n",
       "      <td>-1.0</td>\n",
       "      <td>30</td>\n",
       "      <td>5.960464e-08</td>\n",
       "    </tr>\n",
       "    <tr>\n",
       "      <th>45</th>\n",
       "      <td>2019-06-11 17:17:30</td>\n",
       "      <td>Proemed44G</td>\n",
       "      <td>@pitiful anonymous So it “seems” to U based on what? When U stick your tongue out the window? Do U think U might not know because U dont read global temps everday of the yr like a supercomputer which tells us 4 sure the temps R going UP and so R the grn house gases... Or is it just all the computers and thermometers R defective?</td>\n",
       "      <td>1</td>\n",
       "      <td>@pitiful anonymous So it “seems” to U based on what? When U stick your tongue\\nout the window? Do U think U might not know because U dont read global temps\\neverday of the yr like a supercomputer which tells us 4 sure the temps R going\\nUP and so R the grn house gases... Or is it just all the computers and\\nthermometers R defective?\\n\\n</td>\n",
       "      <td>-1.0</td>\n",
       "      <td>31</td>\n",
       "      <td>1.788139e-07</td>\n",
       "    </tr>\n",
       "    <tr>\n",
       "      <th>78</th>\n",
       "      <td>2019-09-27 15:38:39</td>\n",
       "      <td>Matt Hedeen</td>\n",
       "      <td>The high level spraying isn't helping either.</td>\n",
       "      <td>1</td>\n",
       "      <td>The high level spraying isn't helping either.\\n\\n</td>\n",
       "      <td>-1.0</td>\n",
       "      <td>32</td>\n",
       "      <td>1.192093e-07</td>\n",
       "    </tr>\n",
       "    <tr>\n",
       "      <th>369</th>\n",
       "      <td>2018-04-08 23:27:32</td>\n",
       "      <td>Rod Martin, Jr.</td>\n",
       "      <td>realism, you're not very realistic. Forest fires over the last century are way down. You're talking about anecdotes. We currently live in an Ice Age and you guys want to cool down the planet. Not very bright that, based on historical data. Cooling has always led to less rain, famines and societal collapses. Oops!</td>\n",
       "      <td>1</td>\n",
       "      <td>, you're not very realistic. Forest fires over the last century are way\\ndown. You're talking about anecdotes. We currently live in an Ice Age and you\\nguys want to cool down the planet. Not very bright that, based on historical\\ndata. Cooling has always led to less rain, famines and societal collapses.\\nOops!\\n\\n</td>\n",
       "      <td>-1.0</td>\n",
       "      <td>33</td>\n",
       "      <td>1.192093e-07</td>\n",
       "    </tr>\n",
       "    <tr>\n",
       "      <th>17</th>\n",
       "      <td>2019-12-28 13:42:22</td>\n",
       "      <td>Tired of All this</td>\n",
       "      <td>I always laugh at climate warming alarmists because climate cooling is the true global killer. That is what was taught in universities before they got government grants to study global warming.</td>\n",
       "      <td>0</td>\n",
       "      <td>I always laugh at climate warming alarmists because climate cooling is the\\ntrue global killer. That is what was taught in universities before they got\\ngovernment grants to study global warming.\\n\\n</td>\n",
       "      <td>-1.0</td>\n",
       "      <td>34</td>\n",
       "      <td>5.960464e-08</td>\n",
       "    </tr>\n",
       "    <tr>\n",
       "      <th>328</th>\n",
       "      <td>2018-04-08 23:17:05</td>\n",
       "      <td>Rod Martin, Jr.</td>\n",
       "      <td>+Jon LeVitre, LOL. And you're ignoring scientific evidence that disproves your Warming Alarmist thesis. If you look at scientist's graphs for CO2 and global temperature on all time scales, you'll find virtually zero correlation on all scales but one. And on Al Gore's time scale (650,000 years), temperature is the driver; not CO2!!! When you have zero correlation, you can not have causation. If you understand science, you should understand this. We live in an Ice Age, near the bottom of Earth's temperature range of habitability, and the Warming Alarmists and globalists want to cool down the planet. Deadly! Wake up!</td>\n",
       "      <td>1</td>\n",
       "      <td>+, LOL. And you're ignoring scientific evidence that disproves your\\nWarming Alarmist thesis. If you look at scientist's graphs for CO2 and global\\ntemperature on all time scales, you'll find virtually zero correlation on all\\nscales but one. And on Al Gore's time scale (650,000 years), temperature is\\nthe driver; not CO2!!! When you have zero correlation, you can not have\\ncausation. If you understand science, you should understand this. We live in\\nan Ice Age, near the bottom of Earth's temperature range of habitability, and\\nthe Warming Alarmists and globalists want to cool down the planet. Deadly!\\nWake up!\\n\\n</td>\n",
       "      <td>-1.0</td>\n",
       "      <td>35</td>\n",
       "      <td>1.788139e-07</td>\n",
       "    </tr>\n",
       "    <tr>\n",
       "      <th>33</th>\n",
       "      <td>2019-06-28 02:45:02</td>\n",
       "      <td>J Boomer</td>\n",
       "      <td>Google , thought police</td>\n",
       "      <td>0</td>\n",
       "      <td>Google , thought police\\n\\n</td>\n",
       "      <td>-1.0</td>\n",
       "      <td>36</td>\n",
       "      <td>0.000000e+00</td>\n",
       "    </tr>\n",
       "    <tr>\n",
       "      <th>527</th>\n",
       "      <td>2017-09-19 01:51:19</td>\n",
       "      <td>Doc Bauk</td>\n",
       "      <td>We know mans impact on the climate. Being a skeptic is fine but sooner or later you need to take the time to verify your skepticism. NOAA tells us and has for many years warmer water in the oceans makes hurricanes stronger and more water vapor in the atmosphere means more rain. This is elementary school stuff and the connection to the CO2 is real. What a joke.</td>\n",
       "      <td>0</td>\n",
       "      <td>We know mans impact on the climate. Being a skeptic is fine but sooner or\\nlater you need to take the time to verify your skepticism. NOAA tells us and\\nhas for many years warmer water in the oceans makes hurricanes stronger and\\nmore water vapor in the atmosphere means more rain. This is elementary school\\nstuff and the connection to the CO2 is real. What a joke.\\n\\n</td>\n",
       "      <td>-1.0</td>\n",
       "      <td>37</td>\n",
       "      <td>0.000000e+00</td>\n",
       "    </tr>\n",
       "    <tr>\n",
       "      <th>399</th>\n",
       "      <td>2017-09-19 19:54:53</td>\n",
       "      <td>Home Wall</td>\n",
       "      <td>Yeah, because we feel it might not be, or God's will be done, or scientists have gotten something wrong before...</td>\n",
       "      <td>1</td>\n",
       "      <td>Yeah, because we feel it might not be, or God's will be done, or scientists\\nhave gotten something wrong before...\\n\\n</td>\n",
       "      <td>-1.0</td>\n",
       "      <td>38</td>\n",
       "      <td>1.788139e-07</td>\n",
       "    </tr>\n",
       "    <tr>\n",
       "      <th>114</th>\n",
       "      <td>2018-12-05 13:06:13</td>\n",
       "      <td>Monty</td>\n",
       "      <td>Spot on.  Putting aside the &amp;quot;97% of scientists … &amp;quot; bullshit, we simply don&amp;#39;t know what the exact effect of human activities have on the environment, but actually we can be pretty confident that our contribution is minor.&lt;br /&gt;Climate change is happening regardless, just as it always has since time began, and if all human activity ground to a halt tomorrow the difference that made would be close to undetectable. &lt;br /&gt;This being the case, it would be far better for mankind as a whole if the huge efforts and sacrifices made to achieve reductions in emissions were instead spent on mitigating the affects of the (inevitable and unstoppable) changing climate on the poorest people of the world.</td>\n",
       "      <td>0</td>\n",
       "      <td>Spot on. Putting aside the \"97% of scientists … \" bullshit, we simply don't\\nknow what the exact effect of human activities have on the environment, but\\nactually we can be pretty confident that our contribution is minor.  \\nClimate change is happening regardless, just as it always has since time\\nbegan, and if all human activity ground to a halt tomorrow the difference that\\nmade would be close to undetectable.  \\nThis being the case, it would be far better for mankind as a whole if the huge\\nefforts and sacrifices made to achieve reductions in emissions were instead\\nspent on mitigating the affects of the (inevitable and unstoppable) changing\\nclimate on the poorest people of the world.\\n\\n</td>\n",
       "      <td>-1.0</td>\n",
       "      <td>39</td>\n",
       "      <td>0.000000e+00</td>\n",
       "    </tr>\n",
       "    <tr>\n",
       "      <th>359</th>\n",
       "      <td>2018-07-17 09:28:57</td>\n",
       "      <td>Vasily Kravtsov</td>\n",
       "      <td>Exactly that's why climate change is a religion. It's a hoax and if you have good arguments stupid leftists call you a denier. But you can't be a denier if something is fucking wrong.</td>\n",
       "      <td>1</td>\n",
       "      <td>Exactly that's why climate change is a religion. It's a hoax and if you have\\ngood arguments stupid leftists call you a denier. But you can't be a denier if\\nsomething is fucking wrong.\\n\\n</td>\n",
       "      <td>-1.0</td>\n",
       "      <td>40</td>\n",
       "      <td>0.000000e+00</td>\n",
       "    </tr>\n",
       "    <tr>\n",
       "      <th>396</th>\n",
       "      <td>2017-12-20 08:09:43</td>\n",
       "      <td>Hale Bopp</td>\n",
       "      <td>Correct Randall, I've never known science to be so politically corrupted by those with vested interest, all those public monies for the true believers - those unbelievers piously ridiculed as \"ignorant\" or \"heretic\".</td>\n",
       "      <td>1</td>\n",
       "      <td>Correct Randall, I've never known science to be so politically corrupted by\\nthose with vested interest, all those public monies for the true believers -\\nthose unbelievers piously ridiculed as \"ignorant\" or \"heretic\".\\n\\n</td>\n",
       "      <td>-1.0</td>\n",
       "      <td>41</td>\n",
       "      <td>5.960464e-08</td>\n",
       "    </tr>\n",
       "    <tr>\n",
       "      <th>613</th>\n",
       "      <td>2018-03-07 12:40:46</td>\n",
       "      <td>Seldz1</td>\n",
       "      <td>Peter Stewart you don't believe in facts I guess</td>\n",
       "      <td>1</td>\n",
       "      <td>you don't believe in facts I guess\\n\\n</td>\n",
       "      <td>-1.0</td>\n",
       "      <td>42</td>\n",
       "      <td>1.192093e-07</td>\n",
       "    </tr>\n",
       "    <tr>\n",
       "      <th>60</th>\n",
       "      <td>2019-04-11 12:17:37</td>\n",
       "      <td>Donald Leske II</td>\n",
       "      <td>&lt;b&gt;Climate Scientists are actually idiots.&lt;/b&gt; If sea level is rising, how did Earth gain 58,000 km2 of net land surface area, including 13,565 km2 of net coastal land surface area? It’s called sedimentation. &lt;b&gt;Climate “scientists”&lt;/b&gt; don’t understand basic science concepts, such as eustatic sea level and sequence stratigraphy, hence, they continue to get their pseudoscience wrong.</td>\n",
       "      <td>0</td>\n",
       "      <td>**Climate Scientists are actually idiots.** If sea level is rising, how did\\nEarth gain 58,000 km2 of net land surface area, including 13,565 km2 of net\\ncoastal land surface area? It’s called sedimentation. **Climate “scientists”**\\ndon’t understand basic science concepts, such as eustatic sea level and\\nsequence stratigraphy, hence, they continue to get their pseudoscience wrong.\\n\\n</td>\n",
       "      <td>-1.0</td>\n",
       "      <td>43</td>\n",
       "      <td>0.000000e+00</td>\n",
       "    </tr>\n",
       "    <tr>\n",
       "      <th>168</th>\n",
       "      <td>2018-08-21 00:56:15</td>\n",
       "      <td>Patricia StLouis</td>\n",
       "      <td>This is just another reason we should have factories in this country. Why is anyone OK with what China is doing. Even with the clean air act it didn&amp;#39;t even begin to start in most countries till 2025 and even then in increments that didn&amp;#39;t come close to where we are for years after.. Well we do it much cleaner here and yet all environmentalist wanted it out of their backyard and sent elsewhere. How dumb of them as the other countries polluting up to 10 times the amount we do and all that is going into all the worlds air. Stupid is as stupid does. LIberals are dumb..</td>\n",
       "      <td>0</td>\n",
       "      <td>This is just another reason we should have factories in this country. Why is\\nanyone OK with what China is doing. Even with the clean air act it didn't even\\nbegin to start in most countries till 2025 and even then in increments that\\ndidn't come close to where we are for years after.. Well we do it much cleaner\\nhere and yet all environmentalist wanted it out of their backyard and sent\\nelsewhere. How dumb of them as the other countries polluting up to 10 times\\nthe amount we do and all that is going into all the worlds air. Stupid is as\\nstupid does. LIberals are dumb..\\n\\n</td>\n",
       "      <td>-1.0</td>\n",
       "      <td>44</td>\n",
       "      <td>0.000000e+00</td>\n",
       "    </tr>\n",
       "    <tr>\n",
       "      <th>235</th>\n",
       "      <td>2018-05-20 15:22:28</td>\n",
       "      <td>Bob Snyder</td>\n",
       "      <td>If you believe mankind is the reason for climate change the only realistic cure is to reduce human population by a few billion. Since liberals are most concerned about this I think they should volunteer</td>\n",
       "      <td>0</td>\n",
       "      <td>If you believe mankind is the reason for climate change the only realistic\\ncure is to reduce human population by a few billion. Since liberals are most\\nconcerned about this I think they should volunteer\\n\\n</td>\n",
       "      <td>-1.0</td>\n",
       "      <td>45</td>\n",
       "      <td>0.000000e+00</td>\n",
       "    </tr>\n",
       "    <tr>\n",
       "      <th>163</th>\n",
       "      <td>2019-06-28 15:00:16</td>\n",
       "      <td>VIKDR</td>\n",
       "      <td>The dust bowl was a variety of factors. Increased plowing eliminated the drought resistant grasses, then when the depression hit fields were left unplanted, resulting in the topsoil blowing away. Now throw in the drought and you had a disaster. One of the few things FDR did that was good was the Civil Conservation Corps who worked on flood control, water conservation and prevented further soil erosion.</td>\n",
       "      <td>1</td>\n",
       "      <td>The dust bowl was a variety of factors. Increased plowing eliminated the\\ndrought resistant grasses, then when the depression hit fields were left\\nunplanted, resulting in the topsoil blowing away. Now throw in the drought and\\nyou had a disaster. One of the few things FDR did that was good was the Civil\\nConservation Corps who worked on flood control, water conservation and\\nprevented further soil erosion.\\n\\n</td>\n",
       "      <td>-1.0</td>\n",
       "      <td>46</td>\n",
       "      <td>1.192093e-07</td>\n",
       "    </tr>\n",
       "    <tr>\n",
       "      <th>19</th>\n",
       "      <td>2019-12-07 02:02:45</td>\n",
       "      <td>Marcy Wilson</td>\n",
       "      <td>There is another branch of &amp;quot;science&amp;quot; where skepticism is not allowed and that is evolution. It is only a theory, a religion, no evidence backs it up. Alopathic medicine is also not allowed to be questioned as the &amp;quot;safest&amp;quot; way for &amp;quot;health&amp;quot; care, when in fact it is in reality sick care for the most part focusing on lifetime management of symptoms of chronic diseases instead of removing the cause of these ailments for their healing, so the medical system can keep making money by keeping people sick.</td>\n",
       "      <td>0</td>\n",
       "      <td>There is another branch of \"science\" where skepticism is not allowed and that\\nis evolution. It is only a theory, a religion, no evidence backs it up.\\nAlopathic medicine is also not allowed to be questioned as the \"safest\" way\\nfor \"health\" care, when in fact it is in reality sick care for the most part\\nfocusing on lifetime management of symptoms of chronic diseases instead of\\nremoving the cause of these ailments for their healing, so the medical system\\ncan keep making money by keeping people sick.\\n\\n</td>\n",
       "      <td>-1.0</td>\n",
       "      <td>47</td>\n",
       "      <td>0.000000e+00</td>\n",
       "    </tr>\n",
       "    <tr>\n",
       "      <th>150</th>\n",
       "      <td>2018-08-27 17:36:55</td>\n",
       "      <td>KrellLab</td>\n",
       "      <td>WikiPedia link disclaimer is censorship and propaganda. Google&amp;#39;s motto, &amp;quot;First, do some evil&amp;quot;.</td>\n",
       "      <td>0</td>\n",
       "      <td>WikiPedia link disclaimer is censorship and propaganda. Google's motto,\\n\"First, do some evil\".\\n\\n</td>\n",
       "      <td>-1.0</td>\n",
       "      <td>48</td>\n",
       "      <td>0.000000e+00</td>\n",
       "    </tr>\n",
       "    <tr>\n",
       "      <th>683</th>\n",
       "      <td>2017-09-21 17:16:27</td>\n",
       "      <td>Dotard J Chump</td>\n",
       "      <td>Tr🤡mptards are the dumbest citizens on the planet &amp; a threat to National Security! Sad! Smh 🤦‍♂️ https://youtu.be/xIfc5Oo0hkc</td>\n",
       "      <td>1</td>\n",
       "      <td>Tr🤡mptards are the dumbest citizens on the planet &amp; a threat to National\\nSecurity! Sad! Smh 🤦‍♂️ \\n\\n</td>\n",
       "      <td>-1.0</td>\n",
       "      <td>49</td>\n",
       "      <td>0.000000e+00</td>\n",
       "    </tr>\n",
       "    <tr>\n",
       "      <th>469</th>\n",
       "      <td>2018-02-10 11:08:23</td>\n",
       "      <td>john bagyan</td>\n",
       "      <td>Did they deny climate change?</td>\n",
       "      <td>1</td>\n",
       "      <td>Did they deny climate change?\\n\\n</td>\n",
       "      <td>-1.0</td>\n",
       "      <td>50</td>\n",
       "      <td>0.000000e+00</td>\n",
       "    </tr>\n",
       "    <tr>\n",
       "      <th>83</th>\n",
       "      <td>2019-01-22 15:18:18</td>\n",
       "      <td>tom my</td>\n",
       "      <td>Are there any legitimate climate scientists who don&amp;#39;t think we have a serious problem needing immediate action? &lt;br /&gt;The anti-climate change &amp;#39;experts&amp;#39; seem to be either fossil fuel shills, or unqualified people posing as as climate experts.</td>\n",
       "      <td>0</td>\n",
       "      <td>Are there any legitimate climate scientists who don't think we have a serious\\nproblem needing immediate action?  \\nThe anti-climate change 'experts' seem to be either fossil fuel shills, or\\nunqualified people posing as as climate experts.\\n\\n</td>\n",
       "      <td>-1.0</td>\n",
       "      <td>51</td>\n",
       "      <td>0.000000e+00</td>\n",
       "    </tr>\n",
       "    <tr>\n",
       "      <th>37</th>\n",
       "      <td>2019-06-10 21:23:59</td>\n",
       "      <td>Proemed44G</td>\n",
       "      <td>Why do all the deniers think they can fake their way thru Sci? Do U ppl think the rest of us cant see U dont know what is going on?</td>\n",
       "      <td>0</td>\n",
       "      <td>Why do all the deniers think they can fake their way thru Sci? Do U ppl think\\nthe rest of us cant see U dont know what is going on?\\n\\n</td>\n",
       "      <td>-1.0</td>\n",
       "      <td>52</td>\n",
       "      <td>1.192093e-07</td>\n",
       "    </tr>\n",
       "    <tr>\n",
       "      <th>98</th>\n",
       "      <td>2019-01-05 01:44:28</td>\n",
       "      <td>Michael Herron</td>\n",
       "      <td>Well done Fox News, as and when climate change destroys millions of peoples homes all over the planet, we&amp;#39;ll be sure to put it all on you. It&amp;#39;s anything for a good bit of drama with you people isn&amp;#39;t it</td>\n",
       "      <td>0</td>\n",
       "      <td>Well done Fox News, as and when climate change destroys millions of peoples\\nhomes all over the planet, we'll be sure to put it all on you. It's anything\\nfor a good bit of drama with you people isn't it\\n\\n</td>\n",
       "      <td>-1.0</td>\n",
       "      <td>53</td>\n",
       "      <td>1.788139e-07</td>\n",
       "    </tr>\n",
       "    <tr>\n",
       "      <th>157</th>\n",
       "      <td>2018-08-24 17:45:33</td>\n",
       "      <td>Pot Jones</td>\n",
       "      <td>Global socialism won&amp;#39;t change weather</td>\n",
       "      <td>0</td>\n",
       "      <td>Global socialism won't change weather\\n\\n</td>\n",
       "      <td>-1.0</td>\n",
       "      <td>54</td>\n",
       "      <td>0.000000e+00</td>\n",
       "    </tr>\n",
       "    <tr>\n",
       "      <th>262</th>\n",
       "      <td>2018-02-24 01:13:17</td>\n",
       "      <td>Nikhil Verma</td>\n",
       "      <td>He ridicules scientists because he has no facts. Only a political narrative.</td>\n",
       "      <td>0</td>\n",
       "      <td>He ridicules scientists because he has no facts. Only a political narrative.\\n\\n</td>\n",
       "      <td>-1.0</td>\n",
       "      <td>55</td>\n",
       "      <td>0.000000e+00</td>\n",
       "    </tr>\n",
       "    <tr>\n",
       "      <th>53</th>\n",
       "      <td>2019-04-25 18:14:01</td>\n",
       "      <td>tim ahlf</td>\n",
       "      <td>If you don&amp;#39;t get money from somewhere how are you going to study anything if you republicans don&amp;#39;t want to know anything about the earth get rid of scientist,stick your head in the sand.</td>\n",
       "      <td>0</td>\n",
       "      <td>If you don't get money from somewhere how are you going to study anything if\\nyou republicans don't want to know anything about the earth get rid of\\nscientist,stick your head in the sand.\\n\\n</td>\n",
       "      <td>-1.0</td>\n",
       "      <td>56</td>\n",
       "      <td>0.000000e+00</td>\n",
       "    </tr>\n",
       "  </tbody>\n",
       "</table>\n",
       "</div>"
      ],
      "text/plain": [
       "             publishedAt            authorName  \\\n",
       "562  2017-09-21 18:53:31              Doc Bauk   \n",
       "221  2018-05-28 14:56:29      Francisco Dueñas   \n",
       "8    2020-08-04 21:46:49         Eric Fournier   \n",
       "336  2018-04-22 19:06:19         David Hoffman   \n",
       "343  2017-09-22 16:01:44      Ken Van de Burgt   \n",
       "249  2018-05-22 03:03:33        Delilah's Beau   \n",
       "612  2018-05-10 01:03:48             Ed Walker   \n",
       "377  2017-09-19 23:20:35             Sorphis9k   \n",
       "65   2019-06-10 21:21:54            Proemed44G   \n",
       "550  2017-09-22 15:23:56        RANDALL SEMRAU   \n",
       "38   2019-06-11 16:52:31            Proemed44G   \n",
       "424  2018-04-14 17:08:04          reference2me   \n",
       "254  2018-03-29 23:22:38              R Carson   \n",
       "416  2018-08-03 09:43:48       Zivan Triwiyasa   \n",
       "371  2017-09-20 16:08:08        Giorgio Cooper   \n",
       "126  2019-12-22 10:18:58                  wong   \n",
       "265  2018-04-14 17:37:54          reference2me   \n",
       "572  2017-09-19 22:56:18    Master Chief 00117   \n",
       "592  2018-05-08 20:19:10       christian almli   \n",
       "483  2018-07-17 09:21:41       Vasily Kravtsov   \n",
       "267  2017-12-29 21:42:40         true survivor   \n",
       "459  2017-12-16 04:24:14           4everjoanna   \n",
       "534  2017-09-24 02:29:13        RANDALL SEMRAU   \n",
       "401  2018-04-14 17:40:11          reference2me   \n",
       "10   2020-02-17 21:02:33           newest bear   \n",
       "435  2017-09-21 15:17:36        RANDALL SEMRAU   \n",
       "337  2018-02-14 13:28:50               DBZFan2   \n",
       "134  2018-09-24 20:24:55           Roger Alsop   \n",
       "521  2017-09-19 04:45:52    Freeman Pennington   \n",
       "392  2018-04-26 18:52:28  Justin St-Louis Wood   \n",
       "307  2018-04-08 23:22:31       Rod Martin, Jr.   \n",
       "45   2019-06-11 17:17:30            Proemed44G   \n",
       "78   2019-09-27 15:38:39           Matt Hedeen   \n",
       "369  2018-04-08 23:27:32       Rod Martin, Jr.   \n",
       "17   2019-12-28 13:42:22     Tired of All this   \n",
       "328  2018-04-08 23:17:05       Rod Martin, Jr.   \n",
       "33   2019-06-28 02:45:02              J Boomer   \n",
       "527  2017-09-19 01:51:19              Doc Bauk   \n",
       "399  2017-09-19 19:54:53             Home Wall   \n",
       "114  2018-12-05 13:06:13                 Monty   \n",
       "359  2018-07-17 09:28:57       Vasily Kravtsov   \n",
       "396  2017-12-20 08:09:43             Hale Bopp   \n",
       "613  2018-03-07 12:40:46                Seldz1   \n",
       "60   2019-04-11 12:17:37       Donald Leske II   \n",
       "168  2018-08-21 00:56:15      Patricia StLouis   \n",
       "235  2018-05-20 15:22:28            Bob Snyder   \n",
       "163  2019-06-28 15:00:16                 VIKDR   \n",
       "19   2019-12-07 02:02:45          Marcy Wilson   \n",
       "150  2018-08-27 17:36:55              KrellLab   \n",
       "683  2017-09-21 17:16:27        Dotard J Chump   \n",
       "469  2018-02-10 11:08:23           john bagyan   \n",
       "83   2019-01-22 15:18:18                tom my   \n",
       "37   2019-06-10 21:23:59            Proemed44G   \n",
       "98   2019-01-05 01:44:28        Michael Herron   \n",
       "157  2018-08-24 17:45:33             Pot Jones   \n",
       "262  2018-02-24 01:13:17          Nikhil Verma   \n",
       "53   2019-04-25 18:14:01              tim ahlf   \n",
       "\n",
       "                                                                                                                                                                                                                                                                                                                                                                                                                                                                                                                                                                                                                                                                                                                                                                                                                                                                                                                                                                                                                                                                                                                                                                                                                                                                                                                                                                                                                                                                   text  \\\n",
       "562                                                                                                                                                                                                                                                                                                                                                                                                                                                                                                                                                                                                                                                                                                                                                                                                                                                                                                                                                                                                                                                   Ken Van de Burgt you are welcome to your hypothesis but the next step is to prove it. The link above shows you how you can do this in the video. You also need to add in some natural variation and those can be seen in the video in this link. Have fun doing some science. Aka proving your hypothesis. The work is waiting for your results. https://www.skepticalscience.com/co2-temperature-correlation.htm   \n",
       "221                                                                                                                                                                                                                                                                                                                                                                                                                                                                                                                                                                                                                                                                                                                                                                                                                                                                                                                                                                                                                                                                                                                                                                                                                                                                                                                                                                                                                                       STOSSELL is REALLY stupid....   \n",
       "8                                                                                                                                                                                                                                                                                                                                                                                                                                                                                                                                                                                                                                                                                                                                                                                                                                                                                       Natural climate change is driven by just 2 things: The sun, and the Earth&#39;s axial tilt. Therefore, of course, climate change is real. Right now we&#39;re enjoying a warming period in Earth&#39;s history, as the Earth has been tilting more and more SE on its axis toward the sun on summer side of orbit---which means sunlight is more and more direct in the N hemisphere. As for MAN-MADE climate change, that too is real. But only in the form of stratospheric aerosols, and how they&#39;re being injected into the atmosphere to buy time against the warming.   \n",
       "336                                                                                                                                                                                                                                                                                                                                                                                                                                                                                                                                                                                                                                                                                                                                                                                                                                                                                                                                                                                                                                                                    Michael Rudge Don't pay any attention to this anti copy and paster, he left this exact comment on Jon LeVitre's comment 3 months ago except he referred to Carlson as \"he\" and has asked the exact same questions on at least 3 other comment threads. His shtick seems to be calling anyone who disagrees with him \"dumbass\" and saying they only believe scientists cause they went to school.   \n",
       "343  I disagree with anyone who has &#39;homogenized&#39;, &#39;fiddled&#39;, &#39;fudged&#39;, or &#39;fraudulently manipulated&#39; the data. It may have been done for the right reasons but the temperature data adjustments are best compared to stirring up already murky waters. <br /><br />When you leave out the &#39;homogenized&#39; surface temperature data all you have left is radiosonde and Satellite data that only goes back to 1958 and 1979 respectively. There hasn&#39;t been a long enough record to know if temperature has been rising or falling or if the changes are unusual. <br /><br />Certainly temperature isn&#39;t rising anywhere near as fast as the climate models have been predicting. The models are profoundly wrong and so the CO2 warming hypothesis is falsified. <br /><br />The information that the models are wrong has been widely circulated for at least 10 years. There is no excuse for continued ignorance of the science that shows that the warming is due to solar activity and that hardly any of it, perhaps 0.01C, is due to carbon dioxide. <br /><br />Political leaders, such as Canada&#39;s Environment Minister Catherine McKenna, are making policy decisions on the UN IPCC reports that are based on the scientifically falsified climate models. McKenna and any other politician that is still on the carbon pricing narrative should resign from government for failure to do due diligence.   \n",
       "249                                                                                                                                                                                                                                                                                                                                                                                                                                                                                                                                                                                                                                                                                                                                                                                                                                                                                                                                                                                                                                                                                                                                                                                                                                                                                                                                                                                                                   That is 6 Trillion GLOBALLY you silly paid troll.   \n",
       "612                                                                                                                                                                                                                                                                                                                                                                                                                                                                                                                                                                                                                                                                                                                                                                                                                                                                                                                                                                                                                                                                                                                                                                                                                                                                    There is no ozone hole, there never was. Cfcs etc. never destroyed the ozone layer. It's all lies from brainwashed leftist technocratic scientists. The ozone fraud cost the consumer trillions.   \n",
       "377                                                                                                                                                                                                                                                                                                                                                                                                                                                                                                                                                                                                                                                                                                                                                                                                                                                                                                                                                                                                                                                                                                                                                                                                                                                                                                                                                                                                                                                  Stossel the fossil   \n",
       "65                                                                                                                                                                                                                                                                                                                                                                                                                                                                                                                                                                                                                                                                                                                                                                                                                                                                                                                                                                                                                                                                                                                                                                                                                                                                                                                                                                                                              And that proves what? Too late to learn now huh Vollox?   \n",
       "550                                                                                                                                                                                                                                                                                                                                                                                                                                                                                                                                                                                                                                                                                                                                                                                                                                                                                                                                                                                                                                                                                                                                                                                                                                                                                                                                          The NOAA statement you refer to can be found here in Section 2(E) https://www.gfdl.noaa.gov/global-warming-and-hurricanes/   \n",
       "38                                                                                                                                                                                                                                                                                                                                                                                                                                                                                                                                                                                                                                                                                                                                                                                                                                                                                                                                                                                                                                                                                                                                                                                        @pitiful anonymous U think a day in weather determines CLIMATE? Apparently U dont KNOW the diff betn climate and weather! It doesnt just get uniformly warming all over the planet all at once.... Just like always we have air masses... OMG U deniers can be such Simletons   \n",
       "424                                                                                                                                                                                                                                                                                                                                                                                                                                                                                                                                                                                                                                                                                                                                                                                                                                                                                                                                                                                                                                                                                                                                                                                                                                                                                                                                                                                                           Science gets more things wrong than right... check it out   \n",
       "254                                                                                                                                                                                                                                                                                                                                                                                                                                                                                                                                                                                                                                                                                                                                                                                                                                                                                                                                                                                                                                                                                                                                                                                                                                                 Here is the science: “It is extremely likely that more than half of the observed increase in… temperature… is caused by anthropogenic forcings.” (IPCC, 2013) “Extremely likely” is defined as over 90% confidence.   \n",
       "416                                                                                                                                                                                                                                                                                                                                                                                                                                                                                                                                                                                                                                                                                                                                                                                                                                                                                                                                                                                                                                                                                                                                                                                                                                                                                                                                                       Rod Martin, Jr. You think that we're that dumb that when you say that you're trolling means we'll believe it?   \n",
       "371                                                                                                                                                                                                                                                                                                                                                                                                                                                                                                                                                                                                                                                                                                                                                                                                                                                                                                                                                                                                                                                                                                      There are hundreds of factors affecting climate change ..... we know that, the scientists know that, everybody should know that .......<br /> because its a fact ....... water vapor is the most important greenhouse gas .... roughly 220 times more important than CO2 ....... Question ; why the hysterics about CO2 ???? Go figure for yourself ..........   \n",
       "126                                                                                                                                                                                                                                                                                                                                                                                                                                                                                                                                                                                                                                                                                                                                                                                                                                                                                                                                                                                                                                                                                                                                                                                                                                                                                                                                                                                                                                                           Of liars.   \n",
       "265                                                                                                                                                                                                                                                                                                                                                                                                                                                                                                                                                                                                                                                                                                                                                                                                                                                                                                                                                                                                                                                                                                                                                                                                              'Scienceblind' Explains Why America Keeps Getting Science Wrong ... https://www.inverse.com › Science › Climate Change May 15, 2017 - In this new book Scienceblind, psychologist Andrew Shtulman explains why so many people get basic science wrong.   \n",
       "572                                                                                                                                                                                                                                                                                                                                                                                                                                                                                                                                                                                                                                                                                                                                                                                                                                                                                                                                                                                                                                                                                                                                        LMAO.. 32 Megatons and we would all be dead you public schooled imbecile. And you don;t know what is in their model. They never released It. It's why a judge had to order them to turn it over. As tax payers have a right to see it. Might be why you ride the Short Bus. You got robbed on an education... Damn morons...   \n",
       "592                                                                                                                                                                                                                                                                                                                                                                                                                                                                                                                                                                                                                                                                                                                                                                                                                                                                                                                                                                                                                                                                                                                                                                                                                                                                                                     Yup, climate change's whole purpose was to make Al, and maybe like 4 other dudes rich. Nothing compared to the oil industry. Cousin fucking morons. All of you.   \n",
       "483                                                                                                                                                                                                                                                                                                                                                                                                                                                                                                                                                                                                                                                                                                                                                                                                                                                                                                                                                                                                                                                                                                                                                                                                     TheHealthPhysicist you are an absolute moron. most of the energy and almost all of cars use fossil fuels you dumb f3ck. Renewables are extremely expensive and sometimes not good for the environment. Stupid liberals have cool-aid instead of brains i guess.   \n",
       "267                                                                                                                                                                                                                                                                                                                                                                                                                                                                                                                                                                                                                                                                                                                                                                                                                                                                                                                                                                                                                                                                                                                                                                                                                                                                                                                                                                                                                                              Fox news is the devil.   \n",
       "459                                                                                                                                                                                                                                                                                                                                                                                                                                                                                                                                                                                                                                                                                                                                                                                                                                                                                                                                                                                                                                                                                     RANDALL SEMRAU Hale Bopp https://climate.nasa.gov/evidence/ Plenty of solid evidence from numerous scientific studies. I know you conservative are a bit dense, so after you read it; go to the bottom to view the sited materials used in this write up. The fact you morons still deny human activity as the main cause for climate change and global warming is astonishing.   \n",
       "534                                                                                                                                                                                                                                                                                                                                                                                                                                                                                                                                                                                                                                                                                                                                                                                                                                                                                                                                                                                                                                                                                                                                                                                                                                                                                                     As comedian George Carlin accurately stated years ago; the planet is fine. The PEOPLE are fucked. The planet will simply shake us off like a bad case of fleas!   \n",
       "401                                                                                                                                                                                                                                                                                                                                                                                                                                                                                                                                                                                                                                                                                                                                                                                                                                                                                                                                                                                                                                                                                                                                                                                                                                                                                                                                                   our children got indoctrinated in our public schools ... they all saw Al Gore's video's probably more than once..   \n",
       "10                                                                                                                                                                                                                                                                                                                                                                                                                                                                                                                                                                                                                                                                                                                                                                                                                                                                                                                                                                                                                                                                                                                                                                                                                                                                                                      Remove the government aspect of this, it all goes away, government comes in, it&#39;s an issue, only an issue if those who Rob you blind say it&#39;s an issue.   \n",
       "435                                                                                                                                                                                                                                                                                                                                                                                                                                                                                                                                                                                                                                                                                                                                                                                                                                                                                                                                                                                                                                                                                                                                                                                          Not only that, the insurance companies will use this as an excuse to raise the 'risk premium' for all future coverage. Despite the fact that they haven't had to shell out for a major (3+) category hurricane strike on the continental US for an unprecedented 12 years.   \n",
       "337                                                                                                                                                                                                                                                                                                                                                                                                                                                                                                                                                                                                                                                                                                                                                     how is Tucker carlson wrong here dumbass? btw i see you are great at copying and pasting left wing talking points from the liberal media and these pathetic late night comedians. who do get them from? Bill Nye? Neil degrasse tyson?! LMFAO!!! CO2 is still 0.04 % of our atmosphere like it was over 120 years ago!!! the earth has only warmed by a measly 0.8 degrees celsius since 1880 dipshit!! also since climate change is a religion and a mantra for you then why don't you stop using electricity, oil and gas for heating your house?! in fact never drive or use public transit ever again, deal?! http://www.dailywire.com/news/14888/michael-moores-dire-climate-change-prophecy-james-barrett   \n",
       "134                                                                                                                                                                                                                                                                                                                                                                                                                                                                                                                                                                                                                                                                                                                                                                                                                                                                                                                                                                                                                                                                                                                                                                                                                                                                                                                                                                                                                                              The BBC says the same.   \n",
       "521                                                                                                                                                                                                                                                                                                                                                                                                                                                                                                                                                                            John Grytbakk exactly it's about control because it's all about money and power and control it's about creating fear and Chaos because it's Joseph Stalin said if you create enough chaos create enough fear the people will easily give up their freedom for some security from the state it's all about creating the vision as well so they can use us as cannon fodder against one another for the purpose of population control and what better way to institut depopulation then to use us against one another so that those in power don't have to use up their valuable resources or get the finger of blame pointed at them think about it if the globalists in their political pawns openly attack the people what would happen the people would wake up and start joining the coals of Liberty the 3DS of establishing any tyranny is deception distraction and disinformation   \n",
       "392                                                                                                                                                                                                                                                                                                                                                                                                                                                                                                                                                                                                                                                                                                                                                                                                                                                                                                                                                                                                                                                                                                                                                                                                                                                                                                                                                                                                                Your sentence should be “why I failed middle school”   \n",
       "307                                                                                                                                                                                                                                                                                                                                                                                                                                                                                                                                                                                                                                                                                                                                                                                                                                                                                                                                                                                                                                                                                                                                                                                                                                                                                          While the rest of the world goes crazy promoting global cooling in an ongoing Ice Age. Dumber than dumb. We live in an age of stupidity. Stossel is one of the smart ones.   \n",
       "45                                                                                                                                                                                                                                                                                                                                                                                                                                                                                                                                                                                                                                                                                                                                                                                                                                                                                                                                                                                                                                                                                                                           @pitiful anonymous So it “seems” to U based on what? When U stick your tongue out the window? Do U think U might not know because U dont read global temps everday of the yr like a supercomputer which tells us 4 sure the temps R going UP and so R the grn house gases... Or is it just all the computers and thermometers R defective?   \n",
       "78                                                                                                                                                                                                                                                                                                                                                                                                                                                                                                                                                                                                                                                                                                                                                                                                                                                                                                                                                                                                                                                                                                                                                                                                                                                                                                                                                                                                                        The high level spraying isn't helping either.   \n",
       "369                                                                                                                                                                                                                                                                                                                                                                                                                                                                                                                                                                                                                                                                                                                                                                                                                                                                                                                                                                                                                                                                                                                                          realism, you're not very realistic. Forest fires over the last century are way down. You're talking about anecdotes. We currently live in an Ice Age and you guys want to cool down the planet. Not very bright that, based on historical data. Cooling has always led to less rain, famines and societal collapses. Oops!   \n",
       "17                                                                                                                                                                                                                                                                                                                                                                                                                                                                                                                                                                                                                                                                                                                                                                                                                                                                                                                                                                                                                                                                                                                                                                                                                                                                    I always laugh at climate warming alarmists because climate cooling is the true global killer. That is what was taught in universities before they got government grants to study global warming.   \n",
       "328                                                                                                                                                                                                                                                                                                                                                                                                                                                                                                                                                                                                                                                                                                                                                                                                                       +Jon LeVitre, LOL. And you're ignoring scientific evidence that disproves your Warming Alarmist thesis. If you look at scientist's graphs for CO2 and global temperature on all time scales, you'll find virtually zero correlation on all scales but one. And on Al Gore's time scale (650,000 years), temperature is the driver; not CO2!!! When you have zero correlation, you can not have causation. If you understand science, you should understand this. We live in an Ice Age, near the bottom of Earth's temperature range of habitability, and the Warming Alarmists and globalists want to cool down the planet. Deadly! Wake up!   \n",
       "33                                                                                                                                                                                                                                                                                                                                                                                                                                                                                                                                                                                                                                                                                                                                                                                                                                                                                                                                                                                                                                                                                                                                                                                                                                                                                                                                                                                                                                              Google , thought police   \n",
       "527                                                                                                                                                                                                                                                                                                                                                                                                                                                                                                                                                                                                                                                                                                                                                                                                                                                                                                                                                                                                                                                                                          We know mans impact on the climate. Being a skeptic is fine but sooner or later you need to take the time to verify your skepticism. NOAA tells us and has for many years warmer water in the oceans makes hurricanes stronger and more water vapor in the atmosphere means more rain. This is elementary school stuff and the connection to the CO2 is real. What a joke.   \n",
       "399                                                                                                                                                                                                                                                                                                                                                                                                                                                                                                                                                                                                                                                                                                                                                                                                                                                                                                                                                                                                                                                                                                                                                                                                                                                                                                                                                   Yeah, because we feel it might not be, or God's will be done, or scientists have gotten something wrong before...   \n",
       "114                                                                                                                                                                                                                                                                                                                                                                                                                                                                                                                                                                                                                                                                                                                              Spot on.  Putting aside the &quot;97% of scientists … &quot; bullshit, we simply don&#39;t know what the exact effect of human activities have on the environment, but actually we can be pretty confident that our contribution is minor.<br />Climate change is happening regardless, just as it always has since time began, and if all human activity ground to a halt tomorrow the difference that made would be close to undetectable. <br />This being the case, it would be far better for mankind as a whole if the huge efforts and sacrifices made to achieve reductions in emissions were instead spent on mitigating the affects of the (inevitable and unstoppable) changing climate on the poorest people of the world.   \n",
       "359                                                                                                                                                                                                                                                                                                                                                                                                                                                                                                                                                                                                                                                                                                                                                                                                                                                                                                                                                                                                                                                                                                                                                                                                                                                                             Exactly that's why climate change is a religion. It's a hoax and if you have good arguments stupid leftists call you a denier. But you can't be a denier if something is fucking wrong.   \n",
       "396                                                                                                                                                                                                                                                                                                                                                                                                                                                                                                                                                                                                                                                                                                                                                                                                                                                                                                                                                                                                                                                                                                                                                                                                                                            Correct Randall, I've never known science to be so politically corrupted by those with vested interest, all those public monies for the true believers - those unbelievers piously ridiculed as \"ignorant\" or \"heretic\".   \n",
       "613                                                                                                                                                                                                                                                                                                                                                                                                                                                                                                                                                                                                                                                                                                                                                                                                                                                                                                                                                                                                                                                                                                                                                                                                                                                                                                                                                                                                                    Peter Stewart you don't believe in facts I guess   \n",
       "60                                                                                                                                                                                                                                                                                                                                                                                                                                                                                                                                                                                                                                                                                                                                                                                                                                                                                                                                                                                                                                                                   <b>Climate Scientists are actually idiots.</b> If sea level is rising, how did Earth gain 58,000 km2 of net land surface area, including 13,565 km2 of net coastal land surface area? It’s called sedimentation. <b>Climate “scientists”</b> don’t understand basic science concepts, such as eustatic sea level and sequence stratigraphy, hence, they continue to get their pseudoscience wrong.   \n",
       "168                                                                                                                                                                                                                                                                                                                                                                                                                                                                                                                                                                                                                                                                                                                                                                                                                                                                 This is just another reason we should have factories in this country. Why is anyone OK with what China is doing. Even with the clean air act it didn&#39;t even begin to start in most countries till 2025 and even then in increments that didn&#39;t come close to where we are for years after.. Well we do it much cleaner here and yet all environmentalist wanted it out of their backyard and sent elsewhere. How dumb of them as the other countries polluting up to 10 times the amount we do and all that is going into all the worlds air. Stupid is as stupid does. LIberals are dumb..   \n",
       "235                                                                                                                                                                                                                                                                                                                                                                                                                                                                                                                                                                                                                                                                                                                                                                                                                                                                                                                                                                                                                                                                                                                                                                                                                                                          If you believe mankind is the reason for climate change the only realistic cure is to reduce human population by a few billion. Since liberals are most concerned about this I think they should volunteer   \n",
       "163                                                                                                                                                                                                                                                                                                                                                                                                                                                                                                                                                                                                                                                                                                                                                                                                                                                                                                                                                                                                                                               The dust bowl was a variety of factors. Increased plowing eliminated the drought resistant grasses, then when the depression hit fields were left unplanted, resulting in the topsoil blowing away. Now throw in the drought and you had a disaster. One of the few things FDR did that was good was the Civil Conservation Corps who worked on flood control, water conservation and prevented further soil erosion.   \n",
       "19                                                                                                                                                                                                                                                                                                                                                                                                                                                                                                                                                                                                                                                                                                                                                                                                                                                                                                                  There is another branch of &quot;science&quot; where skepticism is not allowed and that is evolution. It is only a theory, a religion, no evidence backs it up. Alopathic medicine is also not allowed to be questioned as the &quot;safest&quot; way for &quot;health&quot; care, when in fact it is in reality sick care for the most part focusing on lifetime management of symptoms of chronic diseases instead of removing the cause of these ailments for their healing, so the medical system can keep making money by keeping people sick.   \n",
       "150                                                                                                                                                                                                                                                                                                                                                                                                                                                                                                                                                                                                                                                                                                                                                                                                                                                                                                                                                                                                                                                                                                                                                                                                                                                                                                                                                        WikiPedia link disclaimer is censorship and propaganda. Google&#39;s motto, &quot;First, do some evil&quot;.   \n",
       "683                                                                                                                                                                                                                                                                                                                                                                                                                                                                                                                                                                                                                                                                                                                                                                                                                                                                                                                                                                                                                                                                                                                                                                                                                                                                                                                                       Tr🤡mptards are the dumbest citizens on the planet & a threat to National Security! Sad! Smh 🤦‍♂️ https://youtu.be/xIfc5Oo0hkc   \n",
       "469                                                                                                                                                                                                                                                                                                                                                                                                                                                                                                                                                                                                                                                                                                                                                                                                                                                                                                                                                                                                                                                                                                                                                                                                                                                                                                                                                                                                                                       Did they deny climate change?   \n",
       "83                                                                                                                                                                                                                                                                                                                                                                                                                                                                                                                                                                                                                                                                                                                                                                                                                                                                                                                                                                                                                                                                                                                                                                                                        Are there any legitimate climate scientists who don&#39;t think we have a serious problem needing immediate action? <br />The anti-climate change &#39;experts&#39; seem to be either fossil fuel shills, or unqualified people posing as as climate experts.   \n",
       "37                                                                                                                                                                                                                                                                                                                                                                                                                                                                                                                                                                                                                                                                                                                                                                                                                                                                                                                                                                                                                                                                                                                                                                                                                                                                                                                                  Why do all the deniers think they can fake their way thru Sci? Do U ppl think the rest of us cant see U dont know what is going on?   \n",
       "98                                                                                                                                                                                                                                                                                                                                                                                                                                                                                                                                                                                                                                                                                                                                                                                                                                                                                                                                                                                                                                                                                                                                                                                                                                                Well done Fox News, as and when climate change destroys millions of peoples homes all over the planet, we&#39;ll be sure to put it all on you. It&#39;s anything for a good bit of drama with you people isn&#39;t it   \n",
       "157                                                                                                                                                                                                                                                                                                                                                                                                                                                                                                                                                                                                                                                                                                                                                                                                                                                                                                                                                                                                                                                                                                                                                                                                                                                                                                                                                                                                                           Global socialism won&#39;t change weather   \n",
       "262                                                                                                                                                                                                                                                                                                                                                                                                                                                                                                                                                                                                                                                                                                                                                                                                                                                                                                                                                                                                                                                                                                                                                                                                                                                                                                                                                                                        He ridicules scientists because he has no facts. Only a political narrative.   \n",
       "53                                                                                                                                                                                                                                                                                                                                                                                                                                                                                                                                                                                                                                                                                                                                                                                                                                                                                                                                                                                                                                                                                                                                                                                                                                                                   If you don&#39;t get money from somewhere how are you going to study anything if you republicans don&#39;t want to know anything about the earth get rid of scientist,stick your head in the sand.   \n",
       "\n",
       "     isReply  \\\n",
       "562        1   \n",
       "221        0   \n",
       "8          0   \n",
       "336        1   \n",
       "343        0   \n",
       "249        1   \n",
       "612        1   \n",
       "377        0   \n",
       "65         1   \n",
       "550        1   \n",
       "38         1   \n",
       "424        1   \n",
       "254        0   \n",
       "416        1   \n",
       "371        0   \n",
       "126        1   \n",
       "265        1   \n",
       "572        1   \n",
       "592        1   \n",
       "483        1   \n",
       "267        0   \n",
       "459        1   \n",
       "534        1   \n",
       "401        1   \n",
       "10         0   \n",
       "435        1   \n",
       "337        1   \n",
       "134        0   \n",
       "521        1   \n",
       "392        1   \n",
       "307        1   \n",
       "45         1   \n",
       "78         1   \n",
       "369        1   \n",
       "17         0   \n",
       "328        1   \n",
       "33         0   \n",
       "527        0   \n",
       "399        1   \n",
       "114        0   \n",
       "359        1   \n",
       "396        1   \n",
       "613        1   \n",
       "60         0   \n",
       "168        0   \n",
       "235        0   \n",
       "163        1   \n",
       "19         0   \n",
       "150        0   \n",
       "683        1   \n",
       "469        1   \n",
       "83         0   \n",
       "37         0   \n",
       "98         0   \n",
       "157        0   \n",
       "262        0   \n",
       "53         0   \n",
       "\n",
       "                                                                                                                                                                                                                                                                                                                                                                                                                                                                                                                                                                                                                                                                                                                                                                                                                                                                                                                                                                                                                                                                                                                                                                                                                                                                                                                                                                                                           cleaned  \\\n",
       "562                                                                                                                                                                                                                                                                                                                                                                                                                                                                                                                                                                                                                                                                                                                                                                                                                                                                                                                                                                                                                                                      you are welcome to your hypothesis but the next step is to\\nprove it. The link above shows you how you can do this in the video. You also\\nneed to add in some natural variation and those can be seen in the video in\\nthis link. Have fun doing some science. Aka proving your hypothesis. The work\\nis waiting for your results. \\ncorrelation.htm\\n\\n   \n",
       "221                                                                                                                                                                                                                                                                                                                                                                                                                                                                                                                                                                                                                                                                                                                                                                                                                                                                                                                                                                                                                                                                                                                                                                                                                                                                                                                                                                              STOSSELL is REALLY stupid....\\n\\n   \n",
       "8                                                                                                                                                                                                                                                                                                                                                                                                                                                                                                                                                                                                                                                                                                                                                                                                                                       Natural climate change is driven by just 2 things: The sun, and the Earth's\\naxial tilt. Therefore, of course, climate change is real. Right now we're\\nenjoying a warming period in Earth's history, as the Earth has been tilting\\nmore and more SE on its axis toward the sun on summer side of orbit---which\\nmeans sunlight is more and more direct in the N hemisphere. As for MAN-MADE\\nclimate change, that too is real. But only in the form of stratospheric\\naerosols, and how they're being injected into the atmosphere to buy time\\nagainst the warming.\\n\\n   \n",
       "336                                                                                                                                                                                                                                                                                                                                                                                                                                                                                                                                                                                                                                                                                                                                                                                                                                                                                                                                                                                                                  Michael Rudge Don't pay any attention to this anti copy and paster, he left\\nthis exact comment on 's comment 3 months ago except he referred to\\nCarlson as \"he\" and has asked the exact same questions on at least 3 other\\ncomment threads. His shtick seems to be calling anyone who disagrees with him\\n\"dumbass\" and saying they only believe scientists cause they went to school.\\n\\n   \n",
       "343  I disagree with anyone who has 'homogenized', 'fiddled', 'fudged', or\\n'fraudulently manipulated' the data. It may have been done for the right\\nreasons but the temperature data adjustments are best compared to stirring up\\nalready murky waters.  \\n  \\nWhen you leave out the 'homogenized' surface temperature data all you have\\nleft is radiosonde and Satellite data that only goes back to 1958 and 1979\\nrespectively. There hasn't been a long enough record to know if temperature\\nhas been rising or falling or if the changes are unusual.  \\n  \\nCertainly temperature isn't rising anywhere near as fast as the climate models\\nhave been predicting. The models are profoundly wrong and so the CO2 warming\\nhypothesis is falsified.  \\n  \\nThe information that the models are wrong has been widely circulated for at\\nleast 10 years. There is no excuse for continued ignorance of the science that\\nshows that the warming is due to solar activity and that hardly any of it,\\nperhaps 0.01C, is due to carbon dioxide.  \\n  \\nPolitical leaders, such as Canada's Environment Minister Catherine McKenna,\\nare making policy decisions on the UN IPCC reports that are based on the\\nscientifically falsified climate models. McKenna and any other politician that\\nis still on the carbon pricing narrative should resign from government for\\nfailure to do due diligence.\\n\\n   \n",
       "249                                                                                                                                                                                                                                                                                                                                                                                                                                                                                                                                                                                                                                                                                                                                                                                                                                                                                                                                                                                                                                                                                                                                                                                                                                                                                                                                                          That is 6 Trillion GLOBALLY you silly paid troll.\\n\\n   \n",
       "612                                                                                                                                                                                                                                                                                                                                                                                                                                                                                                                                                                                                                                                                                                                                                                                                                                                                                                                                                                                                                                                                                                                                                                                                         There is no ozone hole, there never was. Cfcs etc. never destroyed the ozone\\nlayer. It's all lies from brainwashed leftist technocratic scientists. The\\nozone fraud cost the consumer trillions.\\n\\n   \n",
       "377                                                                                                                                                                                                                                                                                                                                                                                                                                                                                                                                                                                                                                                                                                                                                                                                                                                                                                                                                                                                                                                                                                                                                                                                                                                                                                                                                                                         Stossel the fossil\\n\\n   \n",
       "65                                                                                                                                                                                                                                                                                                                                                                                                                                                                                                                                                                                                                                                                                                                                                                                                                                                                                                                                                                                                                                                                                                                                                                                                                                                                                                                                                     And that proves what? Too late to learn now huh Vollox?\\n\\n   \n",
       "550                                                                                                                                                                                                                                                                                                                                                                                                                                                                                                                                                                                                                                                                                                                                                                                                                                                                                                                                                                                                                                                                                                                                                                                                                                                                                                                                        The NOAA statement you refer to can be found here in Section 2(E)\\n\\n\\n   \n",
       "38                                                                                                                                                                                                                                                                                                                                                                                                                                                                                                                                                                                                                                                                                                                                                                                                                                                                                                                                                                                                                                                                                                                            @pitiful anonymous U think a day in weather determines CLIMATE? Apparently U\\ndont KNOW the diff betn climate and weather! It doesnt just get uniformly\\nwarming all over the planet all at once.... Just like always we have air\\nmasses... OMG U deniers can be such Simletons\\n\\n   \n",
       "424                                                                                                                                                                                                                                                                                                                                                                                                                                                                                                                                                                                                                                                                                                                                                                                                                                                                                                                                                                                                                                                                                                                                                                                                                                                                                                                                                  Science gets more things wrong than right... check it out\\n\\n   \n",
       "254                                                                                                                                                                                                                                                                                                                                                                                                                                                                                                                                                                                                                                                                                                                                                                                                                                                                                                                                                                                                                                                                                                                                                                                      Here is the science: “It is extremely likely that more than half of the\\nobserved increase in… temperature… is caused by anthropogenic forcings.”\\n(IPCC, 2013) “Extremely likely” is defined as over 90% confidence.\\n\\n   \n",
       "416                                                                                                                                                                                                                                                                                                                                                                                                                                                                                                                                                                                                                                                                                                                                                                                                                                                                                                                                                                                                                                                                                                                                                                                                                                                                                                             You think that we're that dumb that when you say that you're\\ntrolling means we'll believe it?\\n\\n   \n",
       "371                                                                                                                                                                                                                                                                                                                                                                                                                                                                                                                                                                                                                                                                                                                                                                                                                                                                                                                                                                                                                                             There are hundreds of factors affecting climate change ..... we know that, the\\nscientists know that, everybody should know that .......  \\nbecause its a fact ....... water vapor is the most important greenhouse gas\\n.... roughly 220 times more important than CO2 ....... Question ; why the\\nhysterics about CO2 ???? Go figure for yourself ..........\\n\\n   \n",
       "126                                                                                                                                                                                                                                                                                                                                                                                                                                                                                                                                                                                                                                                                                                                                                                                                                                                                                                                                                                                                                                                                                                                                                                                                                                                                                                                                                                                                  Of liars.\\n\\n   \n",
       "265                                                                                                                                                                                                                                                                                                                                                                                                                                                                                                                                                                                                                                                                                                                                                                                                                                                                                                                                                                                                                                                                                                                                                                         'Scienceblind' Explains Why America Keeps Getting Science Wrong ...\\n › Science › Climate Change May 15, 2017 - In this new\\nbook Scienceblind, psychologist Andrew Shtulman explains why so many people\\nget basic science wrong.\\n\\n   \n",
       "572                                                                                                                                                                                                                                                                                                                                                                                                                                                                                                                                                                                                                                                                                                                                                                                                                                                                                                                                                                                                                                                                           LMAO.. 32 Megatons and we would all be dead you public schooled imbecile. And\\nyou don;t know what is in their model. They never released It. It's why a\\njudge had to order them to turn it over. As tax payers have a right to see it.\\nMight be why you ride the Short Bus. You got robbed on an education... Damn\\nmorons...\\n\\n   \n",
       "592                                                                                                                                                                                                                                                                                                                                                                                                                                                                                                                                                                                                                                                                                                                                                                                                                                                                                                                                                                                                                                                                                                                                                                                                                                          Yup, climate change's whole purpose was to make Al, and maybe like 4 other\\ndudes rich. Nothing compared to the oil industry. Cousin fucking morons. All\\nof you.\\n\\n   \n",
       "483                                                                                                                                                                                                                                                                                                                                                                                                                                                                                                                                                                                                                                                                                                                                                                                                                                                                                                                                                                                                                                                                                                                                         TheHealthPhysicist you are an absolute moron. most of the energy and almost\\nall of cars use fossil fuels you dumb f3ck. Renewables are extremely expensive\\nand sometimes not good for the environment. Stupid liberals have cool-aid\\ninstead of brains i guess.\\n\\n   \n",
       "267                                                                                                                                                                                                                                                                                                                                                                                                                                                                                                                                                                                                                                                                                                                                                                                                                                                                                                                                                                                                                                                                                                                                                                                                                                                                                                                                                                                     Fox news is the devil.\\n\\n   \n",
       "459                                                                                                                                                                                                                                                                                                                                                                                                                                                                                                                                                                                                                                                                                                                                                                                                                                                                                                                                                                                                                                                                                    Plenty of solid\\nevidence from numerous scientific studies. I know you conservative are a bit\\ndense, so after you read it; go to the bottom to view the sited materials used\\nin this write up. The fact you morons still deny human activity as the main\\ncause for climate change and global warming is astonishing.\\n\\n   \n",
       "534                                                                                                                                                                                                                                                                                                                                                                                                                                                                                                                                                                                                                                                                                                                                                                                                                                                                                                                                                                                                                                                                                                                                                                                                                                          As comedian George Carlin accurately stated years ago; the planet is fine. The\\nPEOPLE are fucked. The planet will simply shake us off like a bad case of\\nfleas!\\n\\n   \n",
       "401                                                                                                                                                                                                                                                                                                                                                                                                                                                                                                                                                                                                                                                                                                                                                                                                                                                                                                                                                                                                                                                                                                                                                                                                                                                                                         our children got indoctrinated in our public schools ... they all saw Al\\nGore's video's probably more than once..\\n\\n   \n",
       "10                                                                                                                                                                                                                                                                                                                                                                                                                                                                                                                                                                                                                                                                                                                                                                                                                                                                                                                                                                                                                                                                                                                                                                                                                                                    Remove the government aspect of this, it all goes away, government comes in,\\nit's an issue, only an issue if those who Rob you blind say it's an issue.\\n\\n   \n",
       "435                                                                                                                                                                                                                                                                                                                                                                                                                                                                                                                                                                                                                                                                                                                                                                                                                                                                                                                                                                                                                                                                                                                              Not only that, the insurance companies will use this as an excuse to raise the\\n'risk premium' for all future coverage. Despite the fact that they haven't had\\nto shell out for a major (3+) category hurricane strike on the continental US\\nfor an unprecedented 12 years.\\n\\n   \n",
       "337                                                                                                                                                                                                                                                                                                                                                                                                                                                                                                                                                                                                                                                                                                                                                         how is Tucker carlson wrong here dumbass? btw i see you are great at copying\\nand pasting left wing talking points from the liberal media and these pathetic\\nlate night comedians. who do get them from? Bill Nye? Neil degrasse tyson?!\\nLMFAO!!! CO2 is still 0.04 % of our atmosphere like it was over 120 years\\nago!!! the earth has only warmed by a measly 0.8 degrees celsius since 1880\\ndipshit!! also since climate change is a religion and a mantra for you then\\nwhy don't you stop using electricity, oil and gas for heating your house?! in\\nfact never drive or use public transit ever again, deal?!\\n\\nprophecy-james-barrett\\n\\n   \n",
       "134                                                                                                                                                                                                                                                                                                                                                                                                                                                                                                                                                                                                                                                                                                                                                                                                                                                                                                                                                                                                                                                                                                                                                                                                                                                                                                                                                                                     The BBC says the same.\\n\\n   \n",
       "521                                                                                                                                                                                                                                                                                                                                                                                                                                                                                                                      exactly it's about control because it's all about money and\\npower and control it's about creating fear and Chaos because it's Joseph\\nStalin said if you create enough chaos create enough fear the people will\\neasily give up their freedom for some security from the state it's all about\\ncreating the vision as well so they can use us as cannon fodder against one\\nanother for the purpose of population control and what better way to institut\\ndepopulation then to use us against one another so that those in power don't\\nhave to use up their valuable resources or get the finger of blame pointed at\\nthem think about it if the globalists in their political pawns openly attack\\nthe people what would happen the people would wake up and start joining the\\ncoals of Liberty the 3DS of establishing any tyranny is deception distraction\\nand disinformation\\n\\n   \n",
       "392                                                                                                                                                                                                                                                                                                                                                                                                                                                                                                                                                                                                                                                                                                                                                                                                                                                                                                                                                                                                                                                                                                                                                                                                                                                                                                                                                       Your sentence should be “why I failed middle school”\\n\\n   \n",
       "307                                                                                                                                                                                                                                                                                                                                                                                                                                                                                                                                                                                                                                                                                                                                                                                                                                                                                                                                                                                                                                                                                                                                                                                                                               While the rest of the world goes crazy promoting global cooling in an ongoing\\nIce Age. Dumber than dumb. We live in an age of stupidity. Stossel is one of\\nthe smart ones.\\n\\n   \n",
       "45                                                                                                                                                                                                                                                                                                                                                                                                                                                                                                                                                                                                                                                                                                                                                                                                                                                                                                                                                                                                                                                              @pitiful anonymous So it “seems” to U based on what? When U stick your tongue\\nout the window? Do U think U might not know because U dont read global temps\\neverday of the yr like a supercomputer which tells us 4 sure the temps R going\\nUP and so R the grn house gases... Or is it just all the computers and\\nthermometers R defective?\\n\\n   \n",
       "78                                                                                                                                                                                                                                                                                                                                                                                                                                                                                                                                                                                                                                                                                                                                                                                                                                                                                                                                                                                                                                                                                                                                                                                                                                                                                                                                                               The high level spraying isn't helping either.\\n\\n   \n",
       "369                                                                                                                                                                                                                                                                                                                                                                                                                                                                                                                                                                                                                                                                                                                                                                                                                                                                                                                                                                                                                                                                                    , you're not very realistic. Forest fires over the last century are way\\ndown. You're talking about anecdotes. We currently live in an Ice Age and you\\nguys want to cool down the planet. Not very bright that, based on historical\\ndata. Cooling has always led to less rain, famines and societal collapses.\\nOops!\\n\\n   \n",
       "17                                                                                                                                                                                                                                                                                                                                                                                                                                                                                                                                                                                                                                                                                                                                                                                                                                                                                                                                                                                                                                                                                                                                                                                                         I always laugh at climate warming alarmists because climate cooling is the\\ntrue global killer. That is what was taught in universities before they got\\ngovernment grants to study global warming.\\n\\n   \n",
       "328                                                                                                                                                                                                                                                                                                                                                                                                                                                                                                                                                                                                                                                                                                                                                                 +, LOL. And you're ignoring scientific evidence that disproves your\\nWarming Alarmist thesis. If you look at scientist's graphs for CO2 and global\\ntemperature on all time scales, you'll find virtually zero correlation on all\\nscales but one. And on Al Gore's time scale (650,000 years), temperature is\\nthe driver; not CO2!!! When you have zero correlation, you can not have\\ncausation. If you understand science, you should understand this. We live in\\nan Ice Age, near the bottom of Earth's temperature range of habitability, and\\nthe Warming Alarmists and globalists want to cool down the planet. Deadly!\\nWake up!\\n\\n   \n",
       "33                                                                                                                                                                                                                                                                                                                                                                                                                                                                                                                                                                                                                                                                                                                                                                                                                                                                                                                                                                                                                                                                                                                                                                                                                                                                                                                                                                                     Google , thought police\\n\\n   \n",
       "527                                                                                                                                                                                                                                                                                                                                                                                                                                                                                                                                                                                                                                                                                                                                                                                                                                                                                                                                                                                                                             We know mans impact on the climate. Being a skeptic is fine but sooner or\\nlater you need to take the time to verify your skepticism. NOAA tells us and\\nhas for many years warmer water in the oceans makes hurricanes stronger and\\nmore water vapor in the atmosphere means more rain. This is elementary school\\nstuff and the connection to the CO2 is real. What a joke.\\n\\n   \n",
       "399                                                                                                                                                                                                                                                                                                                                                                                                                                                                                                                                                                                                                                                                                                                                                                                                                                                                                                                                                                                                                                                                                                                                                                                                                                                                                         Yeah, because we feel it might not be, or God's will be done, or scientists\\nhave gotten something wrong before...\\n\\n   \n",
       "114                                                                                                                                                                                                                                                                                                                                                                                                                                                                                                                                                                                                                                                                                  Spot on. Putting aside the \"97% of scientists … \" bullshit, we simply don't\\nknow what the exact effect of human activities have on the environment, but\\nactually we can be pretty confident that our contribution is minor.  \\nClimate change is happening regardless, just as it always has since time\\nbegan, and if all human activity ground to a halt tomorrow the difference that\\nmade would be close to undetectable.  \\nThis being the case, it would be far better for mankind as a whole if the huge\\nefforts and sacrifices made to achieve reductions in emissions were instead\\nspent on mitigating the affects of the (inevitable and unstoppable) changing\\nclimate on the poorest people of the world.\\n\\n   \n",
       "359                                                                                                                                                                                                                                                                                                                                                                                                                                                                                                                                                                                                                                                                                                                                                                                                                                                                                                                                                                                                                                                                                                                                                                                                                  Exactly that's why climate change is a religion. It's a hoax and if you have\\ngood arguments stupid leftists call you a denier. But you can't be a denier if\\nsomething is fucking wrong.\\n\\n   \n",
       "396                                                                                                                                                                                                                                                                                                                                                                                                                                                                                                                                                                                                                                                                                                                                                                                                                                                                                                                                                                                                                                                                                                                                                                                 Correct Randall, I've never known science to be so politically corrupted by\\nthose with vested interest, all those public monies for the true believers -\\nthose unbelievers piously ridiculed as \"ignorant\" or \"heretic\".\\n\\n   \n",
       "613                                                                                                                                                                                                                                                                                                                                                                                                                                                                                                                                                                                                                                                                                                                                                                                                                                                                                                                                                                                                                                                                                                                                                                                                                                                                                                                                                                         you don't believe in facts I guess\\n\\n   \n",
       "60                                                                                                                                                                                                                                                                                                                                                                                                                                                                                                                                                                                                                                                                                                                                                                                                                                                                                                                                                                                                            **Climate Scientists are actually idiots.** If sea level is rising, how did\\nEarth gain 58,000 km2 of net land surface area, including 13,565 km2 of net\\ncoastal land surface area? It’s called sedimentation. **Climate “scientists”**\\ndon’t understand basic science concepts, such as eustatic sea level and\\nsequence stratigraphy, hence, they continue to get their pseudoscience wrong.\\n\\n   \n",
       "168                                                                                                                                                                                                                                                                                                                                                                                                                                                                                                                                                                                                                                                                                                                                                                                                         This is just another reason we should have factories in this country. Why is\\nanyone OK with what China is doing. Even with the clean air act it didn't even\\nbegin to start in most countries till 2025 and even then in increments that\\ndidn't come close to where we are for years after.. Well we do it much cleaner\\nhere and yet all environmentalist wanted it out of their backyard and sent\\nelsewhere. How dumb of them as the other countries polluting up to 10 times\\nthe amount we do and all that is going into all the worlds air. Stupid is as\\nstupid does. LIberals are dumb..\\n\\n   \n",
       "235                                                                                                                                                                                                                                                                                                                                                                                                                                                                                                                                                                                                                                                                                                                                                                                                                                                                                                                                                                                                                                                                                                                                                                                               If you believe mankind is the reason for climate change the only realistic\\ncure is to reduce human population by a few billion. Since liberals are most\\nconcerned about this I think they should volunteer\\n\\n   \n",
       "163                                                                                                                                                                                                                                                                                                                                                                                                                                                                                                                                                                                                                                                                                                                                                                                                                                                                                                                                                                                 The dust bowl was a variety of factors. Increased plowing eliminated the\\ndrought resistant grasses, then when the depression hit fields were left\\nunplanted, resulting in the topsoil blowing away. Now throw in the drought and\\nyou had a disaster. One of the few things FDR did that was good was the Civil\\nConservation Corps who worked on flood control, water conservation and\\nprevented further soil erosion.\\n\\n   \n",
       "19                                                                                                                                                                                                                                                                                                                                                                                                                                                                                                                                                                                                                                                                                                                                                                                                                                                                                 There is another branch of \"science\" where skepticism is not allowed and that\\nis evolution. It is only a theory, a religion, no evidence backs it up.\\nAlopathic medicine is also not allowed to be questioned as the \"safest\" way\\nfor \"health\" care, when in fact it is in reality sick care for the most part\\nfocusing on lifetime management of symptoms of chronic diseases instead of\\nremoving the cause of these ailments for their healing, so the medical system\\ncan keep making money by keeping people sick.\\n\\n   \n",
       "150                                                                                                                                                                                                                                                                                                                                                                                                                                                                                                                                                                                                                                                                                                                                                                                                                                                                                                                                                                                                                                                                                                                                                                                                                                                                                                            WikiPedia link disclaimer is censorship and propaganda. Google's motto,\\n\"First, do some evil\".\\n\\n   \n",
       "683                                                                                                                                                                                                                                                                                                                                                                                                                                                                                                                                                                                                                                                                                                                                                                                                                                                                                                                                                                                                                                                                                                                                                                                                                                                                                                         Tr🤡mptards are the dumbest citizens on the planet & a threat to National\\nSecurity! Sad! Smh 🤦‍♂️ \\n\\n   \n",
       "469                                                                                                                                                                                                                                                                                                                                                                                                                                                                                                                                                                                                                                                                                                                                                                                                                                                                                                                                                                                                                                                                                                                                                                                                                                                                                                                                                                              Did they deny climate change?\\n\\n   \n",
       "83                                                                                                                                                                                                                                                                                                                                                                                                                                                                                                                                                                                                                                                                                                                                                                                                                                                                                                                                                                                                                                                                                                                                                            Are there any legitimate climate scientists who don't think we have a serious\\nproblem needing immediate action?  \\nThe anti-climate change 'experts' seem to be either fossil fuel shills, or\\nunqualified people posing as as climate experts.\\n\\n   \n",
       "37                                                                                                                                                                                                                                                                                                                                                                                                                                                                                                                                                                                                                                                                                                                                                                                                                                                                                                                                                                                                                                                                                                                                                                                                                                                                        Why do all the deniers think they can fake their way thru Sci? Do U ppl think\\nthe rest of us cant see U dont know what is going on?\\n\\n   \n",
       "98                                                                                                                                                                                                                                                                                                                                                                                                                                                                                                                                                                                                                                                                                                                                                                                                                                                                                                                                                                                                                                                                                                                                                                                                 Well done Fox News, as and when climate change destroys millions of peoples\\nhomes all over the planet, we'll be sure to put it all on you. It's anything\\nfor a good bit of drama with you people isn't it\\n\\n   \n",
       "157                                                                                                                                                                                                                                                                                                                                                                                                                                                                                                                                                                                                                                                                                                                                                                                                                                                                                                                                                                                                                                                                                                                                                                                                                                                                                                                                                                      Global socialism won't change weather\\n\\n   \n",
       "262                                                                                                                                                                                                                                                                                                                                                                                                                                                                                                                                                                                                                                                                                                                                                                                                                                                                                                                                                                                                                                                                                                                                                                                                                                                                                                                               He ridicules scientists because he has no facts. Only a political narrative.\\n\\n   \n",
       "53                                                                                                                                                                                                                                                                                                                                                                                                                                                                                                                                                                                                                                                                                                                                                                                                                                                                                                                                                                                                                                                                                                                                                                                                                If you don't get money from somewhere how are you going to study anything if\\nyou republicans don't want to know anything about the earth get rid of\\nscientist,stick your head in the sand.\\n\\n   \n",
       "\n",
       "     label_manual  label_kmedoids  distance_kmedoids  \n",
       "562          -1.0               0       5.960464e-08  \n",
       "221          -1.0               1       0.000000e+00  \n",
       "8            -1.0               2       1.192093e-07  \n",
       "336          -1.0               3       1.788139e-07  \n",
       "343          -1.0               4       0.000000e+00  \n",
       "249          -1.0               5       0.000000e+00  \n",
       "612          -1.0               6       1.788139e-07  \n",
       "377          -1.0               7       0.000000e+00  \n",
       "65           -1.0               8       0.000000e+00  \n",
       "550          -1.0               9       0.000000e+00  \n",
       "38           -1.0              10       0.000000e+00  \n",
       "424          -1.0              11       1.788139e-07  \n",
       "254          -1.0              12       0.000000e+00  \n",
       "416          -1.0              13       0.000000e+00  \n",
       "371          -1.0              14       0.000000e+00  \n",
       "126          -1.0              15       1.192093e-07  \n",
       "265          -1.0              16       5.960464e-08  \n",
       "572          -1.0              17       5.960464e-08  \n",
       "592          -1.0              18       0.000000e+00  \n",
       "483          -1.0              19       2.384186e-07  \n",
       "267          -1.0              20       1.192093e-07  \n",
       "459          -1.0              21       0.000000e+00  \n",
       "534          -1.0              22       0.000000e+00  \n",
       "401          -1.0              23       2.384186e-07  \n",
       "10           -1.0              24       0.000000e+00  \n",
       "435          -1.0              25       1.192093e-07  \n",
       "337          -1.0              26       0.000000e+00  \n",
       "134          -1.0              27       0.000000e+00  \n",
       "521          -1.0              28       0.000000e+00  \n",
       "392          -1.0              29       0.000000e+00  \n",
       "307          -1.0              30       5.960464e-08  \n",
       "45           -1.0              31       1.788139e-07  \n",
       "78           -1.0              32       1.192093e-07  \n",
       "369          -1.0              33       1.192093e-07  \n",
       "17           -1.0              34       5.960464e-08  \n",
       "328          -1.0              35       1.788139e-07  \n",
       "33           -1.0              36       0.000000e+00  \n",
       "527          -1.0              37       0.000000e+00  \n",
       "399          -1.0              38       1.788139e-07  \n",
       "114          -1.0              39       0.000000e+00  \n",
       "359          -1.0              40       0.000000e+00  \n",
       "396          -1.0              41       5.960464e-08  \n",
       "613          -1.0              42       1.192093e-07  \n",
       "60           -1.0              43       0.000000e+00  \n",
       "168          -1.0              44       0.000000e+00  \n",
       "235          -1.0              45       0.000000e+00  \n",
       "163          -1.0              46       1.192093e-07  \n",
       "19           -1.0              47       0.000000e+00  \n",
       "150          -1.0              48       0.000000e+00  \n",
       "683          -1.0              49       0.000000e+00  \n",
       "469          -1.0              50       0.000000e+00  \n",
       "83           -1.0              51       0.000000e+00  \n",
       "37           -1.0              52       1.192093e-07  \n",
       "98           -1.0              53       1.788139e-07  \n",
       "157          -1.0              54       0.000000e+00  \n",
       "262          -1.0              55       0.000000e+00  \n",
       "53           -1.0              56       0.000000e+00  "
      ]
     },
     "execution_count": 75,
     "metadata": {
      "tags": []
     },
     "output_type": "execute_result"
    }
   ],
   "source": [
    "# print the medoids \n",
    "\n",
    "data.iloc[medoids_indices]"
   ]
  },
  {
   "cell_type": "code",
   "execution_count": null,
   "metadata": {
    "colab": {
     "base_uri": "https://localhost:8080/"
    },
    "id": "OVzqEf540_OO",
    "outputId": "689ff128-3644-4b52-f204-e82fa5b9c73f"
   },
   "outputs": [
    {
     "name": "stdout",
     "output_type": "stream",
     "text": [
      "0 number of samples:  4 mean distance from center:  0.0016182661056518555 Proportion of replies: 100.0\n",
      "1 number of samples:  30 mean distance from center:  0.002174973451474216 Proportion of replies: 70.0\n",
      "2 number of samples:  29 mean distance from center:  0.002592802047729492 Proportion of replies: 41.37931034482759\n",
      "3 number of samples:  8 mean distance from center:  0.002434849739074707 Proportion of replies: 87.5\n",
      "4 number of samples:  36 mean distance from center:  0.0017085008948924951 Proportion of replies: 66.66666666666667\n",
      "5 number of samples:  3 mean distance from center:  0.0013013680472795386 Proportion of replies: 100.0\n",
      "6 number of samples:  12 mean distance from center:  0.000331799196828797 Proportion of replies: 83.33333333333333\n",
      "7 number of samples:  17 mean distance from center:  0.0003074898359045619 Proportion of replies: 17.647058823529413\n",
      "8 number of samples:  20 mean distance from center:  0.002072453571599908 Proportion of replies: 80.0\n",
      "9 number of samples:  5 mean distance from center:  0.0009238719940185547 Proportion of replies: 100.0\n",
      "10 number of samples:  11 mean distance from center:  0.0032722949981689453 Proportion of replies: 72.72727272727273\n",
      "11 number of samples:  13 mean distance from center:  0.0026634106689016335 Proportion of replies: 84.61538461538461\n",
      "12 number of samples:  12 mean distance from center:  0.001354515552520752 Proportion of replies: 66.66666666666667\n",
      "13 number of samples:  20 mean distance from center:  0.0025776029360713437 Proportion of replies: 85.0\n",
      "14 number of samples:  38 mean distance from center:  0.002326777030248195 Proportion of replies: 89.47368421052632\n",
      "15 number of samples:  19 mean distance from center:  0.0005549506113311509 Proportion of replies: 84.21052631578948\n",
      "16 number of samples:  14 mean distance from center:  0.0015756913853692822 Proportion of replies: 78.57142857142857\n",
      "17 number of samples:  3 mean distance from center:  0.0013748805031355005 Proportion of replies: 66.66666666666667\n",
      "18 number of samples:  6 mean distance from center:  0.0016997257262119092 Proportion of replies: 83.33333333333333\n",
      "19 number of samples:  20 mean distance from center:  0.0009098648661165498 Proportion of replies: 75.0\n",
      "20 number of samples:  10 mean distance from center:  0.0008761882781982422 Proportion of replies: 10.0\n",
      "21 number of samples:  27 mean distance from center:  0.002266521732963156 Proportion of replies: 85.18518518518519\n",
      "22 number of samples:  9 mean distance from center:  0.0014172659575706348 Proportion of replies: 55.55555555555556\n",
      "23 number of samples:  13 mean distance from center:  0.0026065568818012252 Proportion of replies: 61.53846153846154\n",
      "24 number of samples:  2 mean distance from center:  8.940696716308594e-06 Proportion of replies: 50.0\n",
      "25 number of samples:  19 mean distance from center:  0.0011362527402525302 Proportion of replies: 63.1578947368421\n",
      "26 number of samples:  11 mean distance from center:  0.001862374301708769 Proportion of replies: 72.72727272727273\n",
      "27 number of samples:  8 mean distance from center:  0.004240125417709351 Proportion of replies: 75.0\n",
      "28 number of samples:  8 mean distance from center:  0.003441423177719116 Proportion of replies: 87.5\n",
      "29 number of samples:  23 mean distance from center:  0.0021032665245002136 Proportion of replies: 91.30434782608695\n",
      "30 number of samples:  17 mean distance from center:  0.0016166883142432198 Proportion of replies: 35.294117647058826\n",
      "31 number of samples:  7 mean distance from center:  0.0029793807698297314 Proportion of replies: 100.0\n",
      "32 number of samples:  4 mean distance from center:  0.002683699131011963 Proportion of replies: 50.0\n",
      "33 number of samples:  23 mean distance from center:  0.0022222166080609895 Proportion of replies: 78.26086956521739\n",
      "34 number of samples:  7 mean distance from center:  0.002168757600884419 Proportion of replies: 42.857142857142854\n",
      "35 number of samples:  10 mean distance from center:  0.003137588646495715 Proportion of replies: 90.0\n",
      "36 number of samples:  14 mean distance from center:  0.00165275159815792 Proportion of replies: 85.71428571428571\n",
      "37 number of samples:  11 mean distance from center:  0.003153085708618164 Proportion of replies: 81.81818181818181\n",
      "38 number of samples:  4 mean distance from center:  0.000992417335510254 Proportion of replies: 50.0\n",
      "39 number of samples:  12 mean distance from center:  0.0013450781807478052 Proportion of replies: 16.666666666666668\n",
      "40 number of samples:  10 mean distance from center:  0.002054572178167291 Proportion of replies: 50.0\n",
      "41 number of samples:  11 mean distance from center:  0.0013172626495361328 Proportion of replies: 72.72727272727273\n",
      "42 number of samples:  9 mean distance from center:  0.004244512820150703 Proportion of replies: 88.88888888888889\n",
      "43 number of samples:  7 mean distance from center:  0.0027707645131158642 Proportion of replies: 85.71428571428571\n",
      "44 number of samples:  7 mean distance from center:  0.001691920442681294 Proportion of replies: 42.857142857142854\n",
      "45 number of samples:  15 mean distance from center:  0.0018807251763064414 Proportion of replies: 33.333333333333336\n",
      "46 number of samples:  2 mean distance from center:  0.0006586313247680664 Proportion of replies: 100.0\n",
      "47 number of samples:  11 mean distance from center:  0.0017046928405761719 Proportion of replies: 63.63636363636363\n",
      "48 number of samples:  8 mean distance from center:  0.0014036893844604492 Proportion of replies: 50.0\n",
      "49 number of samples:  15 mean distance from center:  0.002219676935055759 Proportion of replies: 53.333333333333336\n",
      "50 number of samples:  4 mean distance from center:  0.0012442469596862793 Proportion of replies: 75.0\n",
      "51 number of samples:  9 mean distance from center:  0.0016351541489711963 Proportion of replies: 55.55555555555556\n",
      "52 number of samples:  10 mean distance from center:  0.003017783092218451 Proportion of replies: 70.0\n",
      "53 number of samples:  6 mean distance from center:  0.00256498660746729 Proportion of replies: 50.0\n",
      "54 number of samples:  6 mean distance from center:  0.0018874803572543897 Proportion of replies: 33.333333333333336\n",
      "55 number of samples:  7 mean distance from center:  0.001990795135498047 Proportion of replies: 28.571428571428573\n",
      "56 number of samples:  3 mean distance from center:  0.0017702579498291016 Proportion of replies: 66.66666666666667\n"
     ]
    }
   ],
   "source": [
    "# print statistics for each cluster\n",
    "data['label_kmedoids'].value_counts().sort_values()\n",
    "for k,g in data.groupby(by = 'label_kmedoids'):\n",
    "      print(g.iloc[0]['label_kmedoids'],\"number of samples: \",len(g.index),\"mean distance from center: \", 100*np.mean(g['distance_kmedoids']), \"Proportion of replies:\", 100*np.sum(g['isReply'])/len(g.index))"
   ]
  },
  {
   "cell_type": "markdown",
   "metadata": {
    "id": "7_E_9zBkO8S-"
   },
   "source": [
    "## Count most frequent words"
   ]
  },
  {
   "cell_type": "code",
   "execution_count": null,
   "metadata": {
    "id": "ib1VesLYPDpG"
   },
   "outputs": [],
   "source": [
    "stopwords_file = working_dir + 'data/stopwords/stopwords_list.txt' # NLTK's list of english stopwords (https://gist.github.com/sebleier/554280)"
   ]
  },
  {
   "cell_type": "code",
   "execution_count": null,
   "metadata": {
    "id": "IwIn05yqQNGe"
   },
   "outputs": [],
   "source": [
    "with open(stopwords_file, 'r') as f:\n",
    "  content = f.readlines()\n",
    "stopwords = [x.strip() for x in content] "
   ]
  },
  {
   "cell_type": "code",
   "execution_count": null,
   "metadata": {
    "id": "jVjXvAJxMjwY"
   },
   "outputs": [],
   "source": [
    "def count_most_frequent_words(cluster_df):  \n",
    "  plain_text = ''\n",
    "\n",
    "  for index, row in cluster_df.iterrows():\n",
    "    plain_text = plain_text + row['cleaned'] + ' '\n",
    "\n",
    "  wordcount = {}\n",
    "  stopwords.append('$')\n",
    "\n",
    "  for word in plain_text.lower().split():\n",
    "      word = word.replace(\".\",\"\")\n",
    "      word = word.replace(\",\",\"\")\n",
    "      word = word.replace(\":\",\"\")\n",
    "      word = word.replace(\"\\\"\",\"\")\n",
    "      word = word.replace(\"!\",\"\")\n",
    "      word = word.replace(\"â€œ\",\"\")\n",
    "      word = word.replace(\"â€˜\",\"\")\n",
    "      word = word.replace(\"*\",\"\")\n",
    "      if word not in stopwords:\n",
    "          if word not in wordcount:\n",
    "              wordcount[word] = 1\n",
    "          else:\n",
    "              wordcount[word] += 1\n",
    "\n",
    "  return wordcount"
   ]
  },
  {
   "cell_type": "code",
   "execution_count": null,
   "metadata": {
    "id": "48IVwHXUTdS-"
   },
   "outputs": [],
   "source": [
    "def plot_most_frequent_words(cluster_df, cluster_number):\n",
    "\n",
    "  wordcount = count_most_frequent_words(cluster_df)\n",
    "\n",
    "  # Print most common word\n",
    "  n_print = 25\n",
    "  # print(\"The {} most common words are as follows\\n\".format(n_print))\n",
    "  word_counter = collections.Counter(wordcount)\n",
    "  # for word, count in word_counter.most_common(n_print):\n",
    "  #     print(word, \": \", count)\n",
    "  # Create a data frame of the most common words \n",
    "  # Draw a bar chart\n",
    "  lst = word_counter.most_common(n_print)\n",
    "  df = pd.DataFrame(lst, columns = ['Word', 'Count'])\n",
    "\n",
    "  title_string = 'Cluster' + str(cluster_number)\n",
    "  df.plot.bar(x='Word',y='Count', title=title_string)"
   ]
  },
  {
   "cell_type": "code",
   "execution_count": null,
   "metadata": {
    "id": "9hIO0wSKIAc3"
   },
   "outputs": [],
   "source": [
    " def get_potential_clusters(number_of_clusters, top_n, keywords):\n",
    "   \n",
    "   potential_cluster_ids = []\n",
    "   \n",
    "   for i in range(0, number_of_clusters):\n",
    "     cluster_number =  i\n",
    "     data['label_kmedoids'] = data['label_kmedoids'].astype('category')\n",
    "     cluster = data[data['label_kmedoids']==cluster_number]\n",
    "     cluster = cluster.sort_values(by='distance_kmedoids')\n",
    "     wordcount = count_most_frequent_words(cluster)\n",
    "     word_counter = collections.Counter(wordcount)\n",
    "     lst = word_counter.most_common(top_n)\n",
    "     len_lst = len(lst)\n",
    "     \n",
    "     for j in range(0, top_n):\n",
    "       if j < len_lst:\n",
    "         if len(get_close_matches(lst[j][0], keywords, cutoff=0.9)) != 0:\n",
    "           potential_cluster_ids.append(i)\n",
    "\n",
    "   return list(set(potential_cluster_ids)) # remove duplicates"
   ]
  },
  {
   "cell_type": "code",
   "execution_count": null,
   "metadata": {
    "colab": {
     "base_uri": "https://localhost:8080/"
    },
    "id": "ocbf8sNWIAhH",
    "outputId": "5d778483-1db2-4322-dbbe-ef45bfdcf96f"
   },
   "outputs": [
    {
     "name": "stdout",
     "output_type": "stream",
     "text": [
      "Potential clusters of interest: [24, 48, 36, 23]\n"
     ]
    }
   ],
   "source": [
    "keywords_list = ['youtube', 'you tube', 'yt', 'google', 'wikipedia', 'wiki', 'censorship', 'censoring', 'censored',  'banner', 'bann', 'shadow banning', 'shadowbanning', 'removed', 'deleted', 'demonitized', 'demonitizing', 'restriction', 'disclaimer', 'warning label', 'free speeach']\n",
    "potential_clusters = get_potential_clusters(number_of_clusters, 20, keywords_list)\n",
    "print('Potential clusters of interest:',potential_clusters)"
   ]
  },
  {
   "cell_type": "code",
   "execution_count": null,
   "metadata": {
    "colab": {
     "base_uri": "https://localhost:8080/",
     "height": 1000
    },
    "id": "2bb9VLXBUxGY",
    "outputId": "1e40dc76-c7c2-4b16-a54c-83f3bf70ffa0"
   },
   "outputs": [
    {
     "data": {
      "image/png": "[encoded data removed]",
      "text/plain": [
       "<Figure size 432x288 with 1 Axes>"
      ]
     },
     "metadata": {
      "needs_background": "light",
      "tags": []
     },
     "output_type": "display_data"
    },
    {
     "data": {
      "image/png": "[encoded data removed]",
      "text/plain": [
       "<Figure size 432x288 with 1 Axes>"
      ]
     },
     "metadata": {
      "needs_background": "light",
      "tags": []
     },
     "output_type": "display_data"
    },
    {
     "data": {
      "image/png": "[encoded data removed]",
      "text/plain": [
       "<Figure size 432x288 with 1 Axes>"
      ]
     },
     "metadata": {
      "needs_background": "light",
      "tags": []
     },
     "output_type": "display_data"
    },
    {
     "data": {
      "image/png": "[encoded data removed]",
      "text/plain": [
       "<Figure size 432x288 with 1 Axes>"
      ]
     },
     "metadata": {
      "needs_background": "light",
      "tags": []
     },
     "output_type": "display_data"
    }
   ],
   "source": [
    "for cluster_number in potential_clusters:\n",
    "  cluster = data[data['label_kmedoids']==cluster_number]\n",
    "  plot_most_frequent_words(cluster, cluster_number)"
   ]
  },
  {
   "cell_type": "markdown",
   "metadata": {
    "id": "l8kHbEhH0_OO"
   },
   "source": [
    "## Analyze specific Cluster\n",
    "Print the comments within a cluster. Comments are sorted by their distance from the cluster medoid"
   ]
  },
  {
   "cell_type": "code",
   "execution_count": null,
   "metadata": {
    "id": "AXuaDGrD0_OP"
   },
   "outputs": [],
   "source": [
    "def summarize_cluster(cluster_number):\n",
    "  # Choose the number of samples to print\n",
    "  number_of_samples_to_print = 10000\n",
    "  data['label_kmedoids'] = data['label_kmedoids'].astype('category')\n",
    "  cluster = data[data['label_kmedoids']==cluster_number]\n",
    "  if cluster[\"text\"].count()<=number_of_samples_to_print:\n",
    "      number_of_samples_to_print = cluster[\"text\"].count()\n",
    "  cluster = cluster.sort_values(by='distance_kmedoids')\n",
    "  print(\"Number of samples in the cluster:\", cluster[\"text\"].count())\n",
    "  print(\"Average Distance from cluster center:\", np.mean(cluster['distance_kmedoids']))\n",
    "  print('------------------------------------------------------------------------------------------------\\n')\n",
    "  for index, row in cluster.iterrows():\n",
    "    print('Comment index:', index, '\\n', row['cleaned'])"
   ]
  },
  {
   "cell_type": "code",
   "execution_count": null,
   "metadata": {
    "colab": {
     "base_uri": "https://localhost:8080/"
    },
    "id": "2EtHOnimyx9m",
    "outputId": "a1b8437e-1812-4c2a-d9ca-e1c5de289bd9"
   },
   "outputs": [
    {
     "name": "stdout",
     "output_type": "stream",
     "text": [
      "Number of samples in the cluster: 6\n",
      "Average Distance from cluster center: 1.4036893844604492e-05\n",
      "------------------------------------------------------------------------------------------------\n",
      "\n",
      "Comment index: 150 \n",
      " WikiPedia link disclaimer is censorship and propaganda. Google's motto,\n",
      "\"First, do some evil\".\n",
      "\n",
      "\n",
      "Comment index: 177 \n",
      " Stop Censoring Youtube/Google. I don't need B.S. Wikipedia Warnings !!\n",
      "\n",
      "\n",
      "Comment index: 153 \n",
      " cen·sorship -noun 1. the suppression or prohibition of any parts of books,\n",
      "films, news, etc. that are considered obscene, politically unacceptable, or a\n",
      "threat to security.\n",
      "\n",
      "\n",
      "Comment index: 176 \n",
      " cen·sorship /ˈsensərSHip/ Learn to pronounce noun 1. the suppression or\n",
      "prohibition of any parts of books, films, news, etc. that are considered\n",
      "obscene, politically unacceptable, or a threat to security.\n",
      "\n",
      "\n",
      "Comment index: 151 \n",
      " @ And then get their idiot edits promptly removed.\n",
      "\n",
      "\n",
      "Comment index: 152 \n",
      " Wikipedia: The bastion of truth and accuracy....that any idiot can edit.\n",
      "HA!!!!\n",
      "\n",
      "\n",
      "Comment index: 116 \n",
      " Its absurd that anyone considers this news. Two non-experts feeding up a\n",
      "clearly rehearsed narritive in an effort to drive people away from scientific\n",
      "thinking. Diversify your information sourcing, this contained no facts to\n",
      "support any of the arguments presented.\n",
      "\n",
      "\n",
      "Comment index: 236 \n",
      " Ignoring the actual subject matter being discussed here for a moment, can we\n",
      "take a moment to recognize that this “interview” is a half step shy of these\n",
      "guys jacking each other off\n",
      "\n",
      "\n"
     ]
    }
   ],
   "source": [
    "# Choose a cluster to print\n",
    "cluster_number =  48\n",
    "summarize_cluster(cluster_number)"
   ]
  },
  {
   "cell_type": "code",
   "execution_count": null,
   "metadata": {
    "colab": {
     "base_uri": "https://localhost:8080/"
    },
    "id": "YNPTuqFCy552",
    "outputId": "6fc6e0a8-ce52-4501-8ae3-de096792d182"
   },
   "outputs": [
    {
     "name": "stdout",
     "output_type": "stream",
     "text": [
      "Number of samples in the cluster: 13\n",
      "Average Distance from cluster center: 1.5020370483398438e-05\n",
      "------------------------------------------------------------------------------------------------\n",
      "\n",
      "Comment index: 422 \n",
      " hear hear!\n",
      "\n",
      "\n",
      "Comment index: 124 \n",
      " @ Try English.\n",
      "\n",
      "\n",
      "Comment index: 33 \n",
      " Google , thought police\n",
      "\n",
      "\n",
      "Comment index: 628 \n",
      " try reading scientist\n",
      "k\n",
      "\n",
      "\n",
      "Comment index: 625 \n",
      " Here you go: \n",
      "\n",
      "\n",
      "Comment index: 41 \n",
      " [citation needed]\n",
      "\n",
      "\n",
      "Comment index: 305 \n",
      " type into google \"paris agreement\"\n",
      "\n",
      "\n",
      "Comment index: 669 \n",
      " Source citations?\n",
      "\n",
      "\n",
      "Comment index: 16 \n",
      " ok boomer\n",
      "\n",
      "\n",
      "Comment index: 224 \n",
      " What's your point?\n",
      "\n",
      "\n",
      "Comment index: 428 \n",
      " YOU RACIST!!!!!!!!!\n",
      "\n",
      "\n",
      "Comment index: 208 \n",
      " @ imagine being David DlF LOL\n",
      "\n",
      "\n",
      "Comment index: 201 \n",
      " I heard that raping females was being legalized!.\n",
      "\n",
      "\n"
     ]
    }
   ],
   "source": [
    "# Choose a cluster to print\n",
    "cluster_number =  28\n",
    "summarize_cluster(cluster_number)"
   ]
  },
  {
   "cell_type": "code",
   "execution_count": null,
   "metadata": {
    "id": "mi7i_VdYle6x"
   },
   "outputs": [],
   "source": []
  },
  {
   "cell_type": "code",
   "execution_count": null,
   "metadata": {
    "colab": {
     "base_uri": "https://localhost:8080/"
    },
    "id": "sBMHm4WAlfLs",
    "outputId": "7e900553-7d27-4dc2-9bf6-a2ea049ad342"
   },
   "outputs": [
    {
     "name": "stdout",
     "output_type": "stream",
     "text": [
      "Number of samples in the cluster: 9\n",
      "Average Distance from cluster center: 2.8464528440963477e-05\n",
      "------------------------------------------------------------------------------------------------\n",
      "\n",
      "Comment index: 175 \n",
      " Notice how YT is posting a disclaimer that global warming is real? Now YT is\n",
      "censoring content\n",
      "\n",
      "\n",
      "Comment index: 468 \n",
      " That is a comment only to be written by someone who doesn't have the attention\n",
      "span to even watch a half of a 5 minute video. They don't deny climate change\n",
      "and they say so multiple times within the first 3 minutes. You brainwashed\n",
      "nutjob just can't stop putting your imagination and feeling over actually\n",
      "listening.\n",
      "\n",
      "\n",
      "Comment index: 401 \n",
      " our children got indoctrinated in our public schools ... they all saw Al\n",
      "Gore's video's probably more than once..\n",
      "\n",
      "\n",
      "Comment index: 470 \n",
      " where in the video did they denier it\n",
      "\n",
      "\n",
      "Comment index: 170 \n",
      " Thank you YouTube for providing a warning label and link to Wikipedia on this\n",
      "video! Your viewers are obviously too stupid to view a video that questions\n",
      "some of the climate change alarmists’ religious dogma and desperately need\n",
      "your help. What’s next, links to DNC websites when viewing GOP videos?\n",
      "\n",
      "\n",
      "Comment index: 290 \n",
      " i just showed you videos and articles that destroys your mindless talking\n",
      "points about climate change And here are some videos proving the earth is\n",
      "flat: FLAT EARTH PROOF ! NASA CAUGHT LYING 2017 youtube.com/watch?v=tJlc-\n",
      "rEB6_M Flat earth We did'nt land on the Moon Former NASA Scientist admits Game\n",
      "over for NASA youtube.com/watch?v=NbysKQIrVdc BTW- All of the photographs are\n",
      "faked, so don't even try that argument. Moron.\n",
      "\n",
      "\n",
      "Comment index: 104 \n",
      " so the earth is flat No, just your brain. You get your faith from propaganda\n",
      "articles, while I get mine from REAL scientific peer review magazines. For\n",
      "example, if I want to read about marine biology, such as dead zones killing\n",
      "fish, I read articles from \"Journal of Marine Biology\", a journal that as\n",
      "articles written by marine biologist that is reviewed by marine biologists for\n",
      "accuracy. On the flip side, you get your information where Dendrochronology\n",
      "article are reviewed by astronomers. How would they know ecological amplitude\n",
      "from aggregation?\n",
      "\n",
      "\n",
      "Comment index: 80 \n",
      " Made sure to install adblock. Now I wish I could get back the four minutes of\n",
      "my life I wasted on this video.\n",
      "\n",
      "\n",
      "Comment index: 684 \n",
      " Predicted they would. Until they don't.\n",
      "\n",
      "\n"
     ]
    }
   ],
   "source": [
    "# Choose a cluster to print\n",
    "cluster_number =  42\n",
    "summarize_cluster(cluster_number)"
   ]
  },
  {
   "cell_type": "markdown",
   "metadata": {
    "id": "JLCf_bKMDYXb"
   },
   "source": [
    "## Analyze specific Comments"
   ]
  },
  {
   "cell_type": "code",
   "execution_count": null,
   "metadata": {
    "id": "BhgNyeUTDX5f"
   },
   "outputs": [],
   "source": [
    "def get_top_similar(sentence, sentence_list, similarity_matrix, topN):\n",
    "    # find the index of sentence in list\n",
    "    index = sentence_list.index(sentence)\n",
    "    # get the corresponding row in similarity matrix\n",
    "    similarity_row = np.array(similarity_matrix[index, :])\n",
    "    # get the indices of top similar\n",
    "    indices = similarity_row.argsort()[-topN:][::-1]\n",
    "    return [sentence_list[i] for i in indices]"
   ]
  },
  {
   "cell_type": "code",
   "execution_count": null,
   "metadata": {
    "id": "aK9pIdeYEHeb"
   },
   "outputs": [],
   "source": [
    "comment_list = data[\"cleaned\"].tolist()"
   ]
  },
  {
   "cell_type": "code",
   "execution_count": null,
   "metadata": {
    "colab": {
     "base_uri": "https://localhost:8080/"
    },
    "id": "z4AJbV5-8mvF",
    "outputId": "afc9cce7-b7e2-46bc-a695-6409fa4da90b"
   },
   "outputs": [
    {
     "name": "stdout",
     "output_type": "stream",
     "text": [
      "Current analyzed comment:\n",
      "\n",
      "WikiPedia link disclaimer is censorship and propaganda. Google's motto,\n",
      "\"First, do some evil\".\n",
      "\n",
      "\n",
      "----------------------------------------------------------------------------------------------------------------\n",
      "\n",
      "Top similar comment 1: WikiPedia link disclaimer is censorship and propaganda. Google's motto,\n",
      "\"First, do some evil\".\n",
      "\n",
      "\n",
      "Top similar comment 2: Stop Censoring Youtube/Google. I don't need B.S. Wikipedia Warnings !!\n",
      "\n",
      "\n",
      "Top similar comment 3: WikiPedia link disclaimer is censorship and propaganda. Man made global\n",
      "warming is a theory. Unproven. Consensus by Liberal scientists is not science.\n",
      "Same was said about the earth being flat....What they knew at the time was\n",
      "their reality not the truth.\n",
      "\n",
      "\n",
      "Top similar comment 4: Wikipedia: The bastion of truth and accuracy....that any idiot can edit.\n",
      "HA!!!!\n",
      "\n",
      "\n",
      "Top similar comment 5: Thank you YouTube for providing a warning label and link to Wikipedia on this\n",
      "video! Your viewers are obviously too stupid to view a video that questions\n",
      "some of the climate change alarmists’ religious dogma and desperately need\n",
      "your help. What’s next, links to DNC websites when viewing GOP videos?\n",
      "\n",
      "\n",
      "Top similar comment 6: The Wikipedia article is alarmist bullshit that makes assumptions based on\n",
      "faulty data and fudged data points. Global warming hysteria is a ploy to\n",
      "control every aspect of every persons daily life.\n",
      "\n",
      "\n",
      "Top similar comment 7: cen·sorship /ˈsensərSHip/ Learn to pronounce noun 1. the suppression or\n",
      "prohibition of any parts of books, films, news, etc. that are considered\n",
      "obscene, politically unacceptable, or a threat to security.\n",
      "\n",
      "\n",
      "Top similar comment 8: cen·sorship -noun 1. the suppression or prohibition of any parts of books,\n",
      "films, news, etc. that are considered obscene, politically unacceptable, or a\n",
      "threat to security.\n",
      "\n",
      "\n",
      "Top similar comment 9: If you can't provide peer-reviewed sources, you are simply talking shit (of\n",
      "which, there is plenty to be found on the net).\n",
      "\n",
      "\n",
      "Top similar comment 10: Fucks News denying evidence\n",
      "\n",
      "\n"
     ]
    }
   ],
   "source": [
    "comment_index = 150\n",
    "comment = data[\"cleaned\"][comment_index]\n",
    "print('Current analyzed comment:\\n')\n",
    "print(comment)\n",
    "print('----------------------------------------------------------------------------------------------------------------\\n')\n",
    "\n",
    "for i, value in enumerate(get_top_similar(comment, comment_list, cosine_similarity_matrix, 10)):\n",
    "  print(\"Top similar comment {}: {}\".format(i+1, value))"
   ]
  },
  {
   "cell_type": "code",
   "execution_count": null,
   "metadata": {
    "id": "AmOFAls_7LO3"
   },
   "outputs": [],
   "source": []
  },
  {
   "cell_type": "code",
   "execution_count": null,
   "metadata": {
    "id": "nPi6DPte7LTE"
   },
   "outputs": [],
   "source": []
  },
  {
   "cell_type": "code",
   "execution_count": null,
   "metadata": {
    "id": "_u2Rowl_7LWl"
   },
   "outputs": [],
   "source": []
  },
  {
   "cell_type": "code",
   "execution_count": null,
   "metadata": {
    "id": "AuhjDowp7LZ3"
   },
   "outputs": [],
   "source": []
  },
  {
   "cell_type": "code",
   "execution_count": null,
   "metadata": {
    "id": "MLY5Vurl7LdM"
   },
   "outputs": [],
   "source": []
  },
  {
   "cell_type": "code",
   "execution_count": null,
   "metadata": {
    "id": "2tiTSHFD7Lgg"
   },
   "outputs": [],
   "source": []
  },
  {
   "cell_type": "code",
   "execution_count": null,
   "metadata": {
    "id": "Qsov5tnY7Ljh"
   },
   "outputs": [],
   "source": []
  },
  {
   "cell_type": "code",
   "execution_count": null,
   "metadata": {
    "id": "NdfFFCgq7LmK"
   },
   "outputs": [],
   "source": []
  },
  {
   "cell_type": "code",
   "execution_count": null,
   "metadata": {
    "id": "3hlPgZ4g7Loi"
   },
   "outputs": [],
   "source": []
  }
 ],
 "metadata": {
  "colab": {
   "collapsed_sections": [],
   "name": "CSMA_Pipeline_7I5RLbbXgPc.ipynb",
   "provenance": [],
   "toc_visible": true
  },
  "kernelspec": {
   "display_name": "Python 3",
   "language": "python",
   "name": "python3"
  },
  "language_info": {
   "codemirror_mode": {
    "name": "ipython",
    "version": 3
   },
   "file_extension": ".py",
   "mimetype": "text/x-python",
   "name": "python",
   "nbconvert_exporter": "python",
   "pygments_lexer": "ipython3",
   "version": "3.8.5"
  },
  "toc": {
   "base_numbering": 1,
   "nav_menu": {},
   "number_sections": true,
   "sideBar": true,
   "skip_h1_title": false,
   "title_cell": "Table of Contents",
   "title_sidebar": "Contents",
   "toc_cell": false,
   "toc_position": {},
   "toc_section_display": true,
   "toc_window_display": false
  }
 },
 "nbformat": 4,
 "nbformat_minor": 1
}
